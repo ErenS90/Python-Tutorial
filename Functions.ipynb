{
 "cells": [
  {
   "cell_type": "code",
   "execution_count": 38,
   "id": "70fa2219",
   "metadata": {},
   "outputs": [],
   "source": [
    "#Factorial function\n",
    "def fact(n):\n",
    "    n_fact=1\n",
    "    for i in range(1,n+1):\n",
    "        n_fact*=i\n",
    "    return n_fact"
   ]
  },
  {
   "cell_type": "code",
   "execution_count": 39,
   "id": "758c3086",
   "metadata": {},
   "outputs": [
    {
     "data": {
      "text/plain": [
       "24"
      ]
     },
     "execution_count": 39,
     "metadata": {},
     "output_type": "execute_result"
    }
   ],
   "source": [
    "a=fact(4)\n",
    "a"
   ]
  },
  {
   "cell_type": "code",
   "execution_count": 40,
   "id": "b4672145",
   "metadata": {},
   "outputs": [],
   "source": [
    "#ncr\n",
    "def ncr(n,r):\n",
    "    fact_n=fact(n)  #n factorial\n",
    "    fact_r=fact(r)  #r factorial\n",
    "    fact_n_r=fact(n-r) #n-r factorial\n",
    "    ans=fact_n//(fact_r*fact_n_r) #ncr\n",
    "    return ans"
   ]
  },
  {
   "cell_type": "code",
   "execution_count": 41,
   "id": "ad25e880",
   "metadata": {},
   "outputs": [
    {
     "data": {
      "text/plain": [
       "10"
      ]
     },
     "execution_count": 41,
     "metadata": {},
     "output_type": "execute_result"
    }
   ],
   "source": [
    "ncr(5,2)"
   ]
  },
  {
   "cell_type": "code",
   "execution_count": 13,
   "id": "1228147b",
   "metadata": {},
   "outputs": [],
   "source": [
    "#Checking if a number is prime\n",
    "def isPrime(n):\n",
    "    for i in range(2,n): #Note! the range is till the number just before n.\n",
    "        if n%i==0:\n",
    "            break\n",
    "    else:              #If n is not divisible by any number before it then it completes the range and goes to if statement.\n",
    "        return True\n",
    "    return False  #if the 'else' is not executed then the number is not prime and this one should be printed.\n"
   ]
  },
  {
   "cell_type": "code",
   "execution_count": 15,
   "id": "f748656b",
   "metadata": {},
   "outputs": [
    {
     "data": {
      "text/plain": [
       "True"
      ]
     },
     "execution_count": 15,
     "metadata": {},
     "output_type": "execute_result"
    }
   ],
   "source": [
    "isPrime(2)"
   ]
  },
  {
   "cell_type": "code",
   "execution_count": 26,
   "id": "ba503f4b",
   "metadata": {},
   "outputs": [],
   "source": [
    "#Printing if the number is prime\n",
    "def primefrom2toN(n):\n",
    "    for t in range(2,n+1):\n",
    "        is_t_prime=(isPrime(t)) #We are using the previously made function\n",
    "        if (is_t_prime):\n",
    "            print(t)"
   ]
  },
  {
   "cell_type": "code",
   "execution_count": 28,
   "id": "cb87a791",
   "metadata": {},
   "outputs": [
    {
     "name": "stdout",
     "output_type": "stream",
     "text": [
      "2\n",
      "3\n",
      "5\n",
      "7\n",
      "11\n",
      "13\n",
      "17\n",
      "19\n"
     ]
    }
   ],
   "source": [
    "primefrom2toN(20)  #try by assigning the value to a variable."
   ]
  },
  {
   "cell_type": "code",
   "execution_count": 32,
   "id": "02bb1420",
   "metadata": {},
   "outputs": [
    {
     "name": "stdout",
     "output_type": "stream",
     "text": [
      "2\n",
      "3\n",
      "5\n",
      "7\n",
      "11\n",
      "13\n",
      "17\n",
      "19\n",
      "None\n"
     ]
    }
   ],
   "source": [
    "a=primefrom2toN(20) #Tbh Idk why none is coming. I would need to ask someone who knows python.\n",
    "print(a)"
   ]
  },
  {
   "cell_type": "code",
   "execution_count": 42,
   "id": "490b0409",
   "metadata": {},
   "outputs": [
    {
     "name": "stdout",
     "output_type": "stream",
     "text": [
      "10\n",
      "12\n"
     ]
    }
   ],
   "source": [
    "#Scope of a variable\n",
    "a1 = 10 # global variable\n",
    "\n",
    "def f1():\n",
    "    b1 = 12 # local variable\n",
    "    print(b1)\n",
    "    \n",
    "print(a1)\n",
    "f1()\n",
    "# cant print a local variable outside the function print(b1)"
   ]
  },
  {
   "cell_type": "code",
   "execution_count": 43,
   "id": "d15ef810",
   "metadata": {},
   "outputs": [
    {
     "name": "stdout",
     "output_type": "stream",
     "text": [
      "10\n",
      "12\n",
      "10\n"
     ]
    }
   ],
   "source": [
    "a2 = 10 # global variable\n",
    "\n",
    "def f2():\n",
    "    b2 = 12 # local variable\n",
    "    print(b2)\n",
    "    print(a2)\n",
    "    \n",
    "print(a2)\n",
    "f2()"
   ]
  },
  {
   "cell_type": "code",
   "execution_count": 44,
   "id": "4c4f9dba",
   "metadata": {},
   "outputs": [
    {
     "name": "stdout",
     "output_type": "stream",
     "text": [
      "10\n",
      "12\n",
      "10\n"
     ]
    }
   ],
   "source": [
    "# you can access any global varible defined before the function call\n",
    "\n",
    "def f3():\n",
    "    b3 = 12 # local variable\n",
    "    print(b3)\n",
    "    print(a3)\n",
    "    #print(c3)\n",
    "\n",
    "a3 = 10 # global variable    \n",
    "print(a3)\n",
    "f3()\n",
    "c3 = 20"
   ]
  },
  {
   "cell_type": "code",
   "execution_count": 45,
   "id": "72e3d13d",
   "metadata": {},
   "outputs": [
    {
     "name": "stdout",
     "output_type": "stream",
     "text": [
      "13\n",
      "12\n",
      "2623983544976\n",
      "13\n",
      "2623983545008\n"
     ]
    }
   ],
   "source": [
    "a4 = 13\n",
    "def f4():\n",
    "    a4 = 12\n",
    "    print(a4)\n",
    "    print(id(a4))\n",
    "    \n",
    "print(a4)\n",
    "f4()\n",
    "print(a4)\n",
    "print(id(a4))"
   ]
  },
  {
   "cell_type": "code",
   "execution_count": 46,
   "id": "fd0244e8",
   "metadata": {},
   "outputs": [
    {
     "name": "stdout",
     "output_type": "stream",
     "text": [
      "13\n",
      "12\n",
      "2623983544976\n",
      "12\n",
      "2623983544976\n"
     ]
    }
   ],
   "source": [
    "a4 = 13\n",
    "def f4():\n",
    "    global a4 #here is the difference from previous one\n",
    "    a4 = 12\n",
    "    print(a4)\n",
    "    print(id(a4))\n",
    "    \n",
    "print(a4)\n",
    "f4()\n",
    "print(a4)\n",
    "print(id(a4))"
   ]
  },
  {
   "cell_type": "code",
   "execution_count": 52,
   "id": "bbfd7dfa",
   "metadata": {},
   "outputs": [
    {
     "name": "stdout",
     "output_type": "stream",
     "text": [
      "6\n"
     ]
    },
    {
     "data": {
      "text/plain": [
       "12"
      ]
     },
     "execution_count": 52,
     "metadata": {},
     "output_type": "execute_result"
    }
   ],
   "source": [
    "def sum(a,b,c=0):  #Put non-default (a,b) and then default ones (c=0)\n",
    "    print(c)\n",
    "    return a+b+c\n",
    "\n",
    "sum(2,4,6)"
   ]
  },
  {
   "cell_type": "code",
   "execution_count": 53,
   "id": "f4325d86",
   "metadata": {},
   "outputs": [
    {
     "name": "stdout",
     "output_type": "stream",
     "text": [
      "6\n"
     ]
    },
    {
     "data": {
      "text/plain": [
       "16"
      ]
     },
     "execution_count": 53,
     "metadata": {},
     "output_type": "execute_result"
    }
   ],
   "source": [
    "def sum(a,b,c=2,d=4):  \n",
    "    print(c)\n",
    "    return a+b+c+d\n",
    "\n",
    "sum(2,4,6)"
   ]
  },
  {
   "cell_type": "code",
   "execution_count": 56,
   "id": "9cd1c6f1",
   "metadata": {},
   "outputs": [
    {
     "name": "stdout",
     "output_type": "stream",
     "text": [
      "1\n"
     ]
    },
    {
     "data": {
      "text/plain": [
       "10"
      ]
     },
     "execution_count": 56,
     "metadata": {},
     "output_type": "execute_result"
    }
   ],
   "source": [
    "sum(b=4,a=2,c=1,d=3) #If you are changing order, then mention everything's name"
   ]
  },
  {
   "cell_type": "code",
   "execution_count": 57,
   "id": "4dd7257a",
   "metadata": {},
   "outputs": [
    {
     "name": "stdout",
     "output_type": "stream",
     "text": [
      "11\n"
     ]
    }
   ],
   "source": [
    "def function(a,b,c=1,d=5):\n",
    "    return a+b+c+d\n",
    "value = function(1,2,d=7)\n",
    "print(value)"
   ]
  },
  {
   "cell_type": "markdown",
   "id": "0eda94f5",
   "metadata": {},
   "source": [
    "Fahrenheit to Celsius Function\n",
    "\n",
    "Given three values - Start Fahrenheit Value (S), End Fahrenheit value (E) and Step Size (W), you need to convert all Fahrenheit values from Start to End at the gap of W, into their corresponding Celsius values and print the table."
   ]
  },
  {
   "cell_type": "code",
   "execution_count": 58,
   "id": "a9e97ddb",
   "metadata": {},
   "outputs": [
    {
     "name": "stdout",
     "output_type": "stream",
     "text": [
      "120\n",
      "160\n",
      "200\n",
      "120 48\n"
     ]
    }
   ],
   "source": [
    "def printTable(s,e,w):\n",
    "    while s<=e:\n",
    "        a=(s-32)*(5/9)\n",
    "        print(str(s)+\" \"+str(int(a)))\n",
    "        s+=w\n",
    "        \n",
    "        \n",
    "s = int(input())\n",
    "e = int(input())\n",
    "w = int(input())\n",
    "printTable(s,e,w)"
   ]
  },
  {
   "cell_type": "markdown",
   "id": "d18a58ff",
   "metadata": {},
   "source": [
    "Fibonacci Member\n",
    "\n",
    "Given a number N, figure out if it is a member of fibonacci series or not. Return true if the number is member of fibonacci series else false.\n",
    "Fibonacci Series is defined by the recurrence"
   ]
  },
  {
   "cell_type": "code",
   "execution_count": 59,
   "id": "66c3e378",
   "metadata": {},
   "outputs": [
    {
     "name": "stdout",
     "output_type": "stream",
     "text": [
      "5\n",
      "true\n"
     ]
    }
   ],
   "source": [
    "def checkMember(n):\n",
    "    a=0\n",
    "    b=1\n",
    "    sum=0\n",
    "    while a<=n:\n",
    "        if a==n:\n",
    "            return True\n",
    "        sum=a+b\n",
    "        a=b\n",
    "        b=sum  \n",
    "    return False\n",
    "\n",
    "n=int(input())\n",
    "if(checkMember(n)):\n",
    "    print(\"true\")        #Honestly, I haven't understood fibonacci series code properly. \n",
    "else:\n",
    "    print(\"false\")"
   ]
  },
  {
   "cell_type": "markdown",
   "id": "16009ba3",
   "metadata": {},
   "source": [
    "Palindrome number\n",
    "\n",
    "Write a program to determine if given number is palindrome or not. Print true if it is palindrome, false otherwise."
   ]
  },
  {
   "cell_type": "code",
   "execution_count": 61,
   "id": "f5c8f837",
   "metadata": {},
   "outputs": [
    {
     "name": "stdout",
     "output_type": "stream",
     "text": [
      "121\n",
      "true\n"
     ]
    }
   ],
   "source": [
    "def checkPalindrome(n):\n",
    "    rev=0\n",
    "    temp=n\n",
    "    while n>0:\n",
    "        rev=(rev*10)+ n%10\n",
    "        n=n//10\n",
    "    if temp==rev:\n",
    "        return True\n",
    "    else:\n",
    "        return False\n",
    "\n",
    "n = int(input())\n",
    "isPalindrome = checkPalindrome(n)\n",
    "if(isPalindrome):\n",
    "    print('true')\n",
    "else:\n",
    "    print('false')\n"
   ]
  },
  {
   "cell_type": "markdown",
   "id": "67dbc5ff",
   "metadata": {},
   "source": [
    "Check Armstrong\n",
    "\n",
    "Write a Program to determine if the given number is Armstrong number or not. Print true if number is armstrong, otherwise print false.\n",
    "An Armstrong number is a number (with digits n) such that the sum of its digits raised to nth power is equal to the number itself.\n",
    "\n",
    "For example,\n",
    "371, as 3^3 + 7^3 + 1^3 = 371\n",
    "1634, as 1^4 + 6^4 + 3^4 + 4^4 = 1634"
   ]
  },
  {
   "cell_type": "code",
   "execution_count": 72,
   "id": "54068b51",
   "metadata": {},
   "outputs": [
    {
     "name": "stdout",
     "output_type": "stream",
     "text": [
      "153\n",
      "true\n"
     ]
    }
   ],
   "source": [
    "def checkarm(n):    #Main part is copied from geeks for geeks.\n",
    "    s = n  \n",
    "    b = len(str(n))\n",
    "    sum1 = 0\n",
    "    while n != 0:\n",
    "        r = n % 10\n",
    "        sum1 = sum1+(r**b)\n",
    "        n = n//10\n",
    "    return sum1\n",
    "\n",
    "n=int(input())\n",
    "calculate=checkarm(n)\n",
    "if n==calculate:\n",
    "    print(\"true\")\n",
    "    \n",
    "else:\n",
    "    print(\"false\")"
   ]
  }
 ],
 "metadata": {
  "kernelspec": {
   "display_name": "Python 3 (ipykernel)",
   "language": "python",
   "name": "python3"
  },
  "language_info": {
   "codemirror_mode": {
    "name": "ipython",
    "version": 3
   },
   "file_extension": ".py",
   "mimetype": "text/x-python",
   "name": "python",
   "nbconvert_exporter": "python",
   "pygments_lexer": "ipython3",
   "version": "3.9.12"
  }
 },
 "nbformat": 4,
 "nbformat_minor": 5
}
