{
 "cells": [
  {
   "cell_type": "code",
   "execution_count": 1,
   "id": "3e9b7348",
   "metadata": {},
   "outputs": [
    {
     "name": "stdout",
     "output_type": "stream",
     "text": [
      "a\n",
      "b\n",
      "c\n",
      "d\n"
     ]
    }
   ],
   "source": [
    "#For strings\n",
    "s=\"abcd\"\n",
    "for i in s:\n",
    "    print(i)"
   ]
  },
  {
   "cell_type": "code",
   "execution_count": 6,
   "id": "5a00912c",
   "metadata": {},
   "outputs": [
    {
     "name": "stdout",
     "output_type": "stream",
     "text": [
      "4\n",
      "1\n",
      "2\n",
      "3\n",
      "4\n"
     ]
    }
   ],
   "source": [
    "#For integers\n",
    "n=int(input())\n",
    "for i in range(1,n+1,1): #(start,end+1,step)  #The end is 1 more than where we want it to end.\n",
    "    print(i)"
   ]
  },
  {
   "cell_type": "code",
   "execution_count": 4,
   "id": "b4b856b5",
   "metadata": {},
   "outputs": [
    {
     "name": "stdout",
     "output_type": "stream",
     "text": [
      "4\n",
      "0\n",
      "1\n",
      "2\n",
      "3\n",
      "4\n"
     ]
    }
   ],
   "source": [
    "n=int(input())\n",
    "for i in range(n+1): #by default, 0 is start and 1 is step.\n",
    "    print(i)"
   ]
  },
  {
   "cell_type": "code",
   "execution_count": 7,
   "id": "3518b3f0",
   "metadata": {},
   "outputs": [
    {
     "name": "stdout",
     "output_type": "stream",
     "text": [
      "4\n",
      "0 1 2 3 4 "
     ]
    }
   ],
   "source": [
    "n=int(input())\n",
    "for i in range(n+1): \n",
    "    print(i,end=' ') #For it to end in a single line"
   ]
  },
  {
   "cell_type": "code",
   "execution_count": 5,
   "id": "e7a1059f",
   "metadata": {},
   "outputs": [
    {
     "name": "stdout",
     "output_type": "stream",
     "text": [
      "4\n",
      "4\n",
      "3\n",
      "2\n",
      "1\n"
     ]
    }
   ],
   "source": [
    "#In Reverse\n",
    "n=int(input())\n",
    "for i in range(n,0,-1): #The end is 1 less than where we want it to end. (For reverse)\n",
    "    print(i)"
   ]
  },
  {
   "cell_type": "code",
   "execution_count": 9,
   "id": "25354f91",
   "metadata": {},
   "outputs": [
    {
     "name": "stdout",
     "output_type": "stream",
     "text": [
      "Enter starting number: 2\n",
      "Enter ending number: 44\n",
      "3\n",
      "6\n",
      "9\n",
      "12\n",
      "15\n",
      "18\n",
      "21\n",
      "24\n",
      "27\n",
      "30\n",
      "33\n",
      "36\n",
      "39\n",
      "42\n"
     ]
    }
   ],
   "source": [
    "#Multiple of three\n",
    "a=int(input('Enter starting number: '))\n",
    "b=int(input('Enter ending number: '))\n",
    "\n",
    "if a%3==0:\n",
    "    s=a #s is starting number.   here,e.g. 9\n",
    "elif a%3==1:\n",
    "    s=a+2  #e,g. 10\n",
    "else:\n",
    "    s=a+1 #e.g. 11\n",
    "for i in range(s, b+1, 3):\n",
    "    print(i)"
   ]
  },
  {
   "cell_type": "code",
   "execution_count": 2,
   "id": "eca0dafb",
   "metadata": {},
   "outputs": [
    {
     "name": "stdout",
     "output_type": "stream",
     "text": [
      "Enter a number: 5\n",
      "Prime Number\n"
     ]
    }
   ],
   "source": [
    "#Check Prime\n",
    "n=int(input('Enter a number: '))\n",
    "flag=False\n",
    "for i in range(2, n, 1):\n",
    "    if n%i==0:\n",
    "        flag = True\n",
    "        \n",
    "if flag:\n",
    "    print('Not a prime number')\n",
    "else:\n",
    "    print('Prime Number')"
   ]
  },
  {
   "cell_type": "code",
   "execution_count": 11,
   "id": "d66ca996",
   "metadata": {},
   "outputs": [
    {
     "name": "stdout",
     "output_type": "stream",
     "text": [
      "4\n",
      "   1\n",
      "  232\n",
      " 34543\n",
      "4567654\n"
     ]
    }
   ],
   "source": [
    "#Pattern, tbh I didn't understood this one properly\n",
    "n=int(input())\n",
    "for i in range(1,n+1,1):\n",
    "    for s in range(n-i):\n",
    "        print(\" \",end=\"\")\n",
    "    for j in range(i,2*i,1):\n",
    "        print(j,end=\"\")\n",
    "    for j in range(2*i-2,i-1,-1):\n",
    "        print(j,end=\"\")\n",
    "    print()"
   ]
  },
  {
   "cell_type": "code",
   "execution_count": 12,
   "id": "1eb8eaa7",
   "metadata": {},
   "outputs": [
    {
     "name": "stdout",
     "output_type": "stream",
     "text": [
      "1\n",
      "2\n",
      "3\n",
      "4\n"
     ]
    }
   ],
   "source": [
    "#Break keyword\n",
    "i=1\n",
    "while i<=10:\n",
    "    if i==5:\n",
    "        break\n",
    "    print(i)\n",
    "    i+=1"
   ]
  },
  {
   "cell_type": "code",
   "execution_count": 13,
   "id": "29804658",
   "metadata": {},
   "outputs": [
    {
     "name": "stdout",
     "output_type": "stream",
     "text": [
      "Enter a number: 386846846\n",
      "Not a prime number\n"
     ]
    }
   ],
   "source": [
    "#Check Prime (more optimised with break)\n",
    "n=int(input('Enter a number: '))\n",
    "flag=False\n",
    "for i in range(2, n, 1):\n",
    "    if n%i==0:\n",
    "        flag = True\n",
    "        break #If we had not done this it the answer for finding prime of such a large number would have taken more time\n",
    "        \n",
    "if flag:\n",
    "    print('Not a prime number')\n",
    "else:\n",
    "    print('Prime Number')"
   ]
  },
  {
   "cell_type": "code",
   "execution_count": 6,
   "id": "db46e4de",
   "metadata": {},
   "outputs": [
    {
     "name": "stdout",
     "output_type": "stream",
     "text": [
      "Enter n: 10\n",
      "2\n",
      "3\n",
      "5\n",
      "7\n"
     ]
    }
   ],
   "source": [
    "#Find all primes within 2 to n\n",
    "n=int(input(\"Enter n: \"))\n",
    "k=2\n",
    "while k<=n:  #Big range let's say 2 to n\n",
    "    d=2\n",
    "    flag=False\n",
    "    while d<k:#smaller range, let's say in big range k is at 6 then here it will check if 6 is prime by going through 2-5, it will break if prime\n",
    "        if k%d==0:\n",
    "            flag = True\n",
    "            break\n",
    "        d+=1\n",
    "    if not flag:\n",
    "        print(d)\n",
    "    k+=1 \n",
    "    \n",
    "# Reminder to myself, try to remember it. I tried to find make up alternative method to do this and it gave me a headache."
   ]
  },
  {
   "cell_type": "code",
   "execution_count": 7,
   "id": "279a0f44",
   "metadata": {},
   "outputs": [
    {
     "name": "stdout",
     "output_type": "stream",
     "text": [
      "1 2 1 2 "
     ]
    }
   ],
   "source": [
    "#A good code for understanding concept\n",
    "i=1\n",
    "while i<3:\n",
    "    j=1\n",
    "    while j<5:\n",
    "        if j==3:\n",
    "            break\n",
    "        print(j,end=\" \")\n",
    "        j = j + 1\n",
    "    i = i + 1"
   ]
  },
  {
   "cell_type": "code",
   "execution_count": 8,
   "id": "debffa4c",
   "metadata": {},
   "outputs": [
    {
     "name": "stdout",
     "output_type": "stream",
     "text": [
      "1\n",
      "2\n",
      "3\n",
      "4\n",
      "This will get printed too\n"
     ]
    }
   ],
   "source": [
    "#Else with loop\n",
    "n=5\n",
    "i=1\n",
    "while i<n:\n",
    "    print(i)\n",
    "    i+=1\n",
    "else:\n",
    "    print('This will get printed too') #This comes only after everything has been traversed in the loop"
   ]
  },
  {
   "cell_type": "code",
   "execution_count": 16,
   "id": "f90ffc5d",
   "metadata": {},
   "outputs": [
    {
     "name": "stdout",
     "output_type": "stream",
     "text": [
      "1 2 3 4 This will get printed too\n"
     ]
    }
   ],
   "source": [
    "#It can also be written as:\n",
    "n=5\n",
    "i=1\n",
    "while i<n:\n",
    "    print(i,end=' ')\n",
    "    i+=1\n",
    "print('This will get printed too') #Note! Writing it without else will get it printed regardless of traversing of all elements in loop. "
   ]
  },
  {
   "cell_type": "code",
   "execution_count": 15,
   "id": "16a5e27f",
   "metadata": {},
   "outputs": [
    {
     "name": "stdout",
     "output_type": "stream",
     "text": [
      "1 2 "
     ]
    }
   ],
   "source": [
    "n=5\n",
    "i=1\n",
    "while i<=n:\n",
    "    if i==3:\n",
    "        break\n",
    "    print(i,end=' ')\n",
    "    i+=1\n",
    "else:\n",
    "    print('As said earlier, It is executed after all the elements in the loop has been traversed') #see the difference from above code."
   ]
  },
  {
   "cell_type": "code",
   "execution_count": 12,
   "id": "22b0c147",
   "metadata": {},
   "outputs": [
    {
     "name": "stdout",
     "output_type": "stream",
     "text": [
      "1 2 "
     ]
    }
   ],
   "source": [
    "i=1\n",
    "while i<5:\n",
    "    if i == 3:\n",
    "        break\n",
    "    print(i,end=' ')\n",
    "    i = i + 1\n",
    "else:\n",
    "    print('Else is also printed')"
   ]
  },
  {
   "cell_type": "code",
   "execution_count": 5,
   "id": "43e54025",
   "metadata": {},
   "outputs": [
    {
     "name": "stdout",
     "output_type": "stream",
     "text": [
      "1\n",
      "2\n",
      "3\n",
      "4\n"
     ]
    }
   ],
   "source": [
    "n=10\n",
    "i=1\n",
    "while i<=n:\n",
    "    if i==5:\n",
    "        break    \n",
    "    print(i)    #put print before break and we get different output. Select any one method for better use.\n",
    "    i+=1"
   ]
  },
  {
   "cell_type": "code",
   "execution_count": 4,
   "id": "db00dfa7",
   "metadata": {},
   "outputs": [
    {
     "name": "stdout",
     "output_type": "stream",
     "text": [
      "2\n",
      "4\n",
      "5\n",
      "6\n",
      "7\n",
      "8\n",
      "9\n",
      "10\n"
     ]
    }
   ],
   "source": [
    "#Continue Keyword\n",
    "n=10\n",
    "i=1\n",
    "while i<n:\n",
    "    i+=1            #Remember the syntax, it gave me a lot of trouble.\n",
    "    if i==3:   \n",
    "        continue\n",
    "    print(i)   #See, 3 is skipped"
   ]
  },
  {
   "cell_type": "code",
   "execution_count": 5,
   "id": "7d3c9d77",
   "metadata": {},
   "outputs": [
    {
     "name": "stdout",
     "output_type": "stream",
     "text": [
      "1 2 4 5 1 2 4 5 "
     ]
    }
   ],
   "source": [
    "i=1\n",
    "while i<3:\n",
    "    j=0\n",
    "    while j<5:\n",
    "        j = j +1\n",
    "        if j==3:\n",
    "            continue\n",
    "        print(j,end=' ')\n",
    "    i = i +1"
   ]
  },
  {
   "cell_type": "code",
   "execution_count": 6,
   "id": "2020c729",
   "metadata": {},
   "outputs": [
    {
     "name": "stdout",
     "output_type": "stream",
     "text": [
      "It basically allows to run an empty if statement or loops\n"
     ]
    }
   ],
   "source": [
    "#Pass statements\n",
    "i=2\n",
    "if i<=4:\n",
    "    pass\n",
    "print('It basically allows to run an empty if statement or loops')"
   ]
  },
  {
   "cell_type": "code",
   "execution_count": 7,
   "id": "c069ac74",
   "metadata": {},
   "outputs": [
    {
     "name": "stdout",
     "output_type": "stream",
     "text": [
      "5\n",
      "11111\n",
      "0000\n",
      "111\n",
      "00\n",
      "1\n"
     ]
    }
   ],
   "source": [
    "n = int(input())\n",
    "\n",
    "for i in range(1,n + 1):\n",
    "    for j in range(n-i+2,1,-1):     #for second column, (4-2 + 1 = 3. we added +2 instead of 1 because the value taken is less than the final value )\n",
    "        if i%2 !=0:\n",
    "            print(1,end=\"\")\n",
    "        else:\n",
    "            print(0,end=\"\")\n",
    "    print()"
   ]
  },
  {
   "cell_type": "code",
   "execution_count": 10,
   "id": "8f811c6b",
   "metadata": {},
   "outputs": [
    {
     "name": "stdout",
     "output_type": "stream",
     "text": [
      "5\n",
      "12345\n",
      " 2345\n",
      "  345\n",
      "   45\n",
      "    5\n",
      "   45\n",
      "  345\n",
      " 2345\n",
      "12345\n"
     ]
    }
   ],
   "source": [
    "n=int(input())      #suppose n=4,i=0\n",
    "i=0## initialized with 0\n",
    "while n>i:                   #loop(4>0)- TRUE\n",
    "    spaces=1        #spaces=1 , 1<=0\n",
    "    while spaces<=i:\n",
    "        print(\" \",end=\"\")\n",
    "        spaces=spaces+1\n",
    "    j=1\n",
    "    while n-i >=j:\n",
    "        print(j+i,end=\"\")\n",
    "        j=j+1\n",
    "    i=i+1\n",
    "    print()\n",
    "while i>1:\n",
    "    spaces =1\n",
    "    while spaces<=i-2:   ##printing the reverse order \n",
    "        print(\" \",end=\"\") \n",
    "        spaces=spaces+1\n",
    "    ##now take j again\n",
    "    j=n\n",
    "    k=1\n",
    "    while j>=i-1:\n",
    "        print(i+k-2,end=\"\")\n",
    "        j=j-1\n",
    "        k=k+1      \n",
    "    i=i-1\n",
    "    print()"
   ]
  },
  {
   "cell_type": "code",
   "execution_count": 15,
   "id": "a002e190",
   "metadata": {},
   "outputs": [
    {
     "name": "stdout",
     "output_type": "stream",
     "text": [
      "7\n",
      "   *\n",
      "  ***\n",
      " *****\n",
      "*******\n",
      " *****\n",
      "  ***\n",
      "   *\n"
     ]
    }
   ],
   "source": [
    "n=int(input())\n",
    "n1=(n+1)//2\n",
    "n2=n-n1\n",
    "for i in range(1,n1+1):\n",
    "    \n",
    "    for s in range(n1-i):\n",
    "        print(\" \",end=\"\")\n",
    "        \n",
    "    for j in range(2*i-1):\n",
    "        print(\"*\",end=\"\")\n",
    "    print()\n",
    "    \n",
    "for i in range(n2,0,-1):\n",
    "    \n",
    "    for s in range(n2-i+1):\n",
    "        print(\" \",end=\"\")\n",
    "        \n",
    "    for j in range(2*i-1):\n",
    "        print(\"*\",end=\"\")\n",
    "    print()"
   ]
  },
  {
   "cell_type": "code",
   "execution_count": 16,
   "id": "5b9d5f6a",
   "metadata": {},
   "outputs": [
    {
     "name": "stdout",
     "output_type": "stream",
     "text": [
      "4\n",
      "4444444\n",
      "4333334\n",
      "4322234\n",
      "4321234\n",
      "4322234\n",
      "4333334\n",
      "4444444\n"
     ]
    }
   ],
   "source": [
    "n=int(input())\n",
    "for i in range(n,0,-1):\n",
    "    for j in range(n,i,-1):\n",
    "        print(j,end=\"\")\n",
    "    for j in range(1,2*i,1): \n",
    "        print(i,end=\"\")\n",
    "    for j in range(i+1,n+1,1):\n",
    "        print(j,end=\"\")\n",
    "    print()\n",
    "for i in range(1,n,1):\n",
    "    for j in range(n,i,-1):\n",
    "        print(j,end=\"\")\n",
    "    for j in range(1,2*i,1):\n",
    "        print(i+1,end=\"\")\n",
    "    for j in range(i+1,n+1,1):\n",
    "        print(j,end=\"\")\n",
    "    print()"
   ]
  },
  {
   "cell_type": "code",
   "execution_count": 17,
   "id": "12299c8f",
   "metadata": {},
   "outputs": [
    {
     "name": "stdout",
     "output_type": "stream",
     "text": [
      "4\n",
      "1 2 3 4 \n",
      "9 10 11 12 \n",
      "13 14 15 16 \n",
      "5 6 7 8 \n"
     ]
    }
   ],
   "source": [
    "n = int(input())\n",
    "k = 0\n",
    "n1 = n - n//2\n",
    "for i in range(1, n1 + 1):\n",
    "    for j in range(1, n+1):\n",
    "        print(k * n + j, end = ' ') #starting line\n",
    "    print()\n",
    "    k = k + 2\n",
    "n2 = n - n1\n",
    "if n % 2 == 0:\n",
    "    k = n - 1\n",
    "else:\n",
    "    k = n - 2\n",
    "for i in range(1, n2 + 1):\n",
    "    for j in range(1, n + 1):\n",
    "        print(k * n + j, end = ' ')\n",
    "    print()\n",
    "    k = k - 2"
   ]
  }
 ],
 "metadata": {
  "kernelspec": {
   "display_name": "Python 3 (ipykernel)",
   "language": "python",
   "name": "python3"
  },
  "language_info": {
   "codemirror_mode": {
    "name": "ipython",
    "version": 3
   },
   "file_extension": ".py",
   "mimetype": "text/x-python",
   "name": "python",
   "nbconvert_exporter": "python",
   "pygments_lexer": "ipython3",
   "version": "3.9.12"
  }
 },
 "nbformat": 4,
 "nbformat_minor": 5
}
