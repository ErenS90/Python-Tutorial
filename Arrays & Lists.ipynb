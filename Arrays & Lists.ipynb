{
 "cells": [
  {
   "cell_type": "markdown",
   "id": "50d593fe",
   "metadata": {},
   "source": [
    "### In list data can be of different type. Whereas in arrays data should be of similar type."
   ]
  },
  {
   "cell_type": "code",
   "execution_count": 32,
   "id": "e7604b83",
   "metadata": {},
   "outputs": [],
   "source": [
    "li = [1, 2, 'Rishav', 3.4]"
   ]
  },
  {
   "cell_type": "code",
   "execution_count": 19,
   "id": "e2e2a855",
   "metadata": {},
   "outputs": [
    {
     "data": {
      "text/plain": [
       "[1, 2, 'Rishav', 3.4]"
      ]
     },
     "execution_count": 19,
     "metadata": {},
     "output_type": "execute_result"
    }
   ],
   "source": [
    "li"
   ]
  },
  {
   "cell_type": "code",
   "execution_count": 7,
   "id": "589df081",
   "metadata": {},
   "outputs": [
    {
     "data": {
      "text/plain": [
       "'Rishav'"
      ]
     },
     "execution_count": 7,
     "metadata": {},
     "output_type": "execute_result"
    }
   ],
   "source": [
    "li[2] #Accessing values"
   ]
  },
  {
   "cell_type": "code",
   "execution_count": 8,
   "id": "a8da3e1b",
   "metadata": {},
   "outputs": [],
   "source": [
    "li[1]=4 #Changing values"
   ]
  },
  {
   "cell_type": "code",
   "execution_count": 9,
   "id": "15904d3b",
   "metadata": {},
   "outputs": [
    {
     "data": {
      "text/plain": [
       "[1, 4, 'Rishav', 3.4]"
      ]
     },
     "execution_count": 9,
     "metadata": {},
     "output_type": "execute_result"
    }
   ],
   "source": [
    "li"
   ]
  },
  {
   "cell_type": "code",
   "execution_count": 10,
   "id": "5858b3c9",
   "metadata": {},
   "outputs": [
    {
     "data": {
      "text/plain": [
       "[4, 'Rishav']"
      ]
     },
     "execution_count": 10,
     "metadata": {},
     "output_type": "execute_result"
    }
   ],
   "source": [
    "li[1:3]  #Slicing of list"
   ]
  },
  {
   "cell_type": "code",
   "execution_count": 33,
   "id": "b63aed95",
   "metadata": {},
   "outputs": [
    {
     "data": {
      "text/plain": [
       "[2, 'Rishav', 3.4]"
      ]
     },
     "execution_count": 33,
     "metadata": {},
     "output_type": "execute_result"
    }
   ],
   "source": [
    "li[1:] #From 1 till end"
   ]
  },
  {
   "cell_type": "code",
   "execution_count": 34,
   "id": "b6d2de7c",
   "metadata": {},
   "outputs": [
    {
     "name": "stdout",
     "output_type": "stream",
     "text": [
      "[1, 2, 'Rishav', 3.4, 'abc']\n"
     ]
    }
   ],
   "source": [
    "#append adds element to the end of the list\n",
    "\n",
    "li.append('abc')\n",
    "print(li)"
   ]
  },
  {
   "cell_type": "code",
   "execution_count": 35,
   "id": "bdbdad7d",
   "metadata": {},
   "outputs": [
    {
     "name": "stdout",
     "output_type": "stream",
     "text": [
      "[1, '5.5 Billion', 2, 'Rishav', 3.4, 'abc']\n"
     ]
    }
   ],
   "source": [
    "#Insert adds element to the deired place\n",
    "\n",
    "li.insert(1,'5.5 Billion')\n",
    "print(li)"
   ]
  },
  {
   "cell_type": "code",
   "execution_count": 36,
   "id": "1e6f8595",
   "metadata": {},
   "outputs": [
    {
     "name": "stdout",
     "output_type": "stream",
     "text": [
      "[1, '5.5 Billion', 2, 'Rishav', 3.4, 'abc', ['xyz', 77, 101]]\n"
     ]
    }
   ],
   "source": [
    "#We can add a list to the end of list \n",
    "\n",
    "li.append(['xyz',77,101])\n",
    "print(li)"
   ]
  },
  {
   "cell_type": "code",
   "execution_count": 37,
   "id": "6b33d2a5",
   "metadata": {},
   "outputs": [
    {
     "name": "stdout",
     "output_type": "stream",
     "text": [
      "[1, '5.5 Billion', 2, 'Rishav', 3.4, 'abc', ['xyz', 77, 101], 'xyz', 77, 101]\n"
     ]
    }
   ],
   "source": [
    "#Extend adds multiple elements to the end of the list\n",
    "li.extend(['xyz',77,101]) #Note! It also takes a list as an input\n",
    "print(li)"
   ]
  },
  {
   "cell_type": "code",
   "execution_count": 38,
   "id": "e5dae377",
   "metadata": {},
   "outputs": [
    {
     "name": "stdout",
     "output_type": "stream",
     "text": [
      "[1, '5.5 Billion', 2, 'Rishav', 3.4, ['xyz', 77, 101], 'xyz', 77, 101]\n"
     ]
    }
   ],
   "source": [
    "#Remove removes any specific element from the list\n",
    "\n",
    "li.remove('abc') #We are typing element's value and not it's position\n",
    "print(li)"
   ]
  },
  {
   "cell_type": "code",
   "execution_count": 39,
   "id": "5424b958",
   "metadata": {},
   "outputs": [
    {
     "name": "stdout",
     "output_type": "stream",
     "text": [
      "[2, 3, 4, 1]\n"
     ]
    }
   ],
   "source": [
    "#If there are 2 elements with same value then it will remove the first one\n",
    "\n",
    "a=[1,2,3,4,1]\n",
    "a.remove(1)\n",
    "print(a)"
   ]
  },
  {
   "cell_type": "code",
   "execution_count": 40,
   "id": "89f017c2",
   "metadata": {},
   "outputs": [
    {
     "data": {
      "text/plain": [
       "[2, 3, 4]"
      ]
     },
     "execution_count": 40,
     "metadata": {},
     "output_type": "execute_result"
    }
   ],
   "source": [
    "a.pop(3) #It removes any element from the list. Note! we are typing position here unlike previous one\n",
    "a"
   ]
  },
  {
   "cell_type": "code",
   "execution_count": 43,
   "id": "3a6bb8b1",
   "metadata": {},
   "outputs": [
    {
     "data": {
      "text/plain": [
       "9"
      ]
     },
     "execution_count": 43,
     "metadata": {},
     "output_type": "execute_result"
    }
   ],
   "source": [
    "len(li)"
   ]
  },
  {
   "cell_type": "code",
   "execution_count": 44,
   "id": "3d242d98",
   "metadata": {},
   "outputs": [
    {
     "data": {
      "text/plain": [
       "3"
      ]
     },
     "execution_count": 44,
     "metadata": {},
     "output_type": "execute_result"
    }
   ],
   "source": [
    "len(a)"
   ]
  },
  {
   "cell_type": "code",
   "execution_count": 1,
   "id": "701656ba",
   "metadata": {},
   "outputs": [],
   "source": [
    "r=['rishav',0,4,11]"
   ]
  },
  {
   "cell_type": "code",
   "execution_count": 3,
   "id": "75cd4ba9",
   "metadata": {},
   "outputs": [
    {
     "name": "stdout",
     "output_type": "stream",
     "text": [
      "rishav\n",
      "0\n",
      "4\n",
      "11\n"
     ]
    }
   ],
   "source": [
    "#Looping on Lists\n",
    "\n",
    "for i in range(len(r)):\n",
    "    print(r[i])"
   ]
  },
  {
   "cell_type": "code",
   "execution_count": 7,
   "id": "9377dc09",
   "metadata": {},
   "outputs": [
    {
     "name": "stdout",
     "output_type": "stream",
     "text": [
      "4\n",
      "11\n"
     ]
    }
   ],
   "source": [
    "#with certain starting index\n",
    "\n",
    "for i in range(2,len(r)):\n",
    "    print(r[i])"
   ]
  },
  {
   "cell_type": "code",
   "execution_count": 8,
   "id": "e2bf495d",
   "metadata": {},
   "outputs": [
    {
     "name": "stdout",
     "output_type": "stream",
     "text": [
      "rishav\n",
      "0\n",
      "4\n",
      "11\n"
     ]
    }
   ],
   "source": [
    "#Another method\n",
    "\n",
    "for i in r:\n",
    "    print(i)"
   ]
  },
  {
   "cell_type": "code",
   "execution_count": 9,
   "id": "55260dfa",
   "metadata": {},
   "outputs": [
    {
     "name": "stdout",
     "output_type": "stream",
     "text": [
      "4\n",
      "11\n"
     ]
    }
   ],
   "source": [
    "#with starting index\n",
    "for i in r[2:]:\n",
    "    print(i)"
   ]
  },
  {
   "cell_type": "code",
   "execution_count": 10,
   "id": "3ea8d92d",
   "metadata": {},
   "outputs": [
    {
     "data": {
      "text/plain": [
       "'rishav'"
      ]
     },
     "execution_count": 10,
     "metadata": {},
     "output_type": "execute_result"
    }
   ],
   "source": [
    "#Negative indexing and sequencing in lists\n",
    "\n",
    "r[-4]"
   ]
  },
  {
   "cell_type": "code",
   "execution_count": 13,
   "id": "fb825478",
   "metadata": {},
   "outputs": [
    {
     "data": {
      "text/plain": [
       "[11, 4]"
      ]
     },
     "execution_count": 13,
     "metadata": {},
     "output_type": "execute_result"
    }
   ],
   "source": [
    "r[-1:-3:-1]  #remember to put step (here, ':-1') otherwise it won't work."
   ]
  },
  {
   "cell_type": "code",
   "execution_count": 15,
   "id": "832db4b7",
   "metadata": {},
   "outputs": [
    {
     "data": {
      "text/plain": [
       "[]"
      ]
     },
     "execution_count": 15,
     "metadata": {},
     "output_type": "execute_result"
    }
   ],
   "source": [
    "r[-1:-3] #see"
   ]
  },
  {
   "cell_type": "code",
   "execution_count": 20,
   "id": "bd44e162",
   "metadata": {},
   "outputs": [
    {
     "data": {
      "text/plain": [
       "[0, 4]"
      ]
     },
     "execution_count": 20,
     "metadata": {},
     "output_type": "execute_result"
    }
   ],
   "source": [
    "r[-3:-1] #it worked since, technically we are going from left to right like how we originally should"
   ]
  },
  {
   "cell_type": "code",
   "execution_count": 21,
   "id": "c2d775be",
   "metadata": {},
   "outputs": [
    {
     "data": {
      "text/plain": [
       "[0, 4]"
      ]
     },
     "execution_count": 21,
     "metadata": {},
     "output_type": "execute_result"
    }
   ],
   "source": [
    "r[1:3] #see, same as above."
   ]
  },
  {
   "cell_type": "code",
   "execution_count": 17,
   "id": "0c8d1fa5",
   "metadata": {},
   "outputs": [
    {
     "data": {
      "text/plain": [
       "['rishav', 4]"
      ]
     },
     "execution_count": 17,
     "metadata": {},
     "output_type": "execute_result"
    }
   ],
   "source": [
    "r[0:3:2]"
   ]
  },
  {
   "cell_type": "code",
   "execution_count": 18,
   "id": "f1da70cd",
   "metadata": {},
   "outputs": [
    {
     "data": {
      "text/plain": [
       "['rishav', 4]"
      ]
     },
     "execution_count": 18,
     "metadata": {},
     "output_type": "execute_result"
    }
   ],
   "source": [
    "r[::2] #starting and ending is by default o till end."
   ]
  },
  {
   "cell_type": "code",
   "execution_count": 19,
   "id": "aa224ad2",
   "metadata": {},
   "outputs": [
    {
     "data": {
      "text/plain": [
       "['rishav', 0]"
      ]
     },
     "execution_count": 19,
     "metadata": {},
     "output_type": "execute_result"
    }
   ],
   "source": [
    "r[:2]  #if no step is mentioned, then it's the ending."
   ]
  },
  {
   "cell_type": "code",
   "execution_count": 22,
   "id": "fa6363ea",
   "metadata": {},
   "outputs": [
    {
     "name": "stdout",
     "output_type": "stream",
     "text": [
      "4\n",
      "0\n",
      "4\n",
      "1\n",
      "1\n",
      "[0, 4, 1, 1]\n"
     ]
    }
   ],
   "source": [
    "#Line seperated input of lists.\n",
    "\n",
    "n=int(input())     #We took a number\n",
    "li=[]              #And an empty list\n",
    "for i in range(n): #Till the number is ongoing, we will continue looping\n",
    "    s=int(input()) #we are taking input\n",
    "    li.append(s)   # And adding it on to the empty list\n",
    "print(li)          #And printing it.\n",
    "\n",
    "\n",
    "#btw, notice that the input is line seperated "
   ]
  },
  {
   "cell_type": "code",
   "execution_count": 30,
   "id": "83b09bd9",
   "metadata": {},
   "outputs": [
    {
     "name": "stdout",
     "output_type": "stream",
     "text": [
      "1 2 3 4 5\n",
      "1 2 3 4 5\n"
     ]
    },
    {
     "data": {
      "text/plain": [
       "['1', '2', '3', '4', '5']"
      ]
     },
     "execution_count": 30,
     "metadata": {},
     "output_type": "execute_result"
    }
   ],
   "source": [
    "#We can split string in a list like this :\n",
    "\n",
    "st=input() #I gave space seperated input like, 1 (space) 2 (space) ... etc.\n",
    "print(st)\n",
    "\n",
    "#Now, comes splitting\n",
    "st.split(' ')"
   ]
  },
  {
   "cell_type": "code",
   "execution_count": 33,
   "id": "7347595b",
   "metadata": {},
   "outputs": [
    {
     "name": "stdout",
     "output_type": "stream",
     "text": [
      "1,2,3,4,5\n",
      "1,2,3,4,5\n"
     ]
    },
    {
     "data": {
      "text/plain": [
       "['1', '2', '3', '4', '5']"
      ]
     },
     "execution_count": 33,
     "metadata": {},
     "output_type": "execute_result"
    }
   ],
   "source": [
    "st=input() #We can give comma seperated input and split on basis of it.\n",
    "print(st)\n",
    "\n",
    "st.split(',')"
   ]
  },
  {
   "cell_type": "code",
   "execution_count": 34,
   "id": "7cf28599",
   "metadata": {},
   "outputs": [
    {
     "name": "stdout",
     "output_type": "stream",
     "text": [
      "1 2 3 4 5\n",
      "1 2 3 4 5\n"
     ]
    },
    {
     "data": {
      "text/plain": [
       "['1 2 3 4 5']"
      ]
     },
     "execution_count": 34,
     "metadata": {},
     "output_type": "execute_result"
    }
   ],
   "source": [
    "#In the above code if we have inputted with comma the the output would have been:\n",
    "\n",
    "st=input()\n",
    "print(st)\n",
    "\n",
    "st.split(',') \n",
    "\n",
    "#A single string since there were no commas to seperate them"
   ]
  },
  {
   "cell_type": "code",
   "execution_count": 35,
   "id": "bd2ca197",
   "metadata": {},
   "outputs": [
    {
     "name": "stdout",
     "output_type": "stream",
     "text": [
      "1 2 3 4 5\n"
     ]
    },
    {
     "data": {
      "text/plain": [
       "['1', '2', '3', '4', '5']"
      ]
     },
     "execution_count": 35,
     "metadata": {},
     "output_type": "execute_result"
    }
   ],
   "source": [
    "a=input()\n",
    "a.split() #We don't actually need to use ' ' for space seperating"
   ]
  },
  {
   "cell_type": "code",
   "execution_count": 39,
   "id": "7d0b4ada",
   "metadata": {},
   "outputs": [
    {
     "name": "stdout",
     "output_type": "stream",
     "text": [
      "[1, 2, 3, 4, 5]\n"
     ]
    }
   ],
   "source": [
    "#The above is a list of strings, for getting a string of integer:\n",
    "\n",
    "li=[]\n",
    "for i in a.split():\n",
    "    li.append(int(i)) #We made it int here.\n",
    "print(li)"
   ]
  },
  {
   "cell_type": "code",
   "execution_count": 42,
   "id": "956e16e9",
   "metadata": {},
   "outputs": [
    {
     "name": "stdout",
     "output_type": "stream",
     "text": [
      "1 2 3 4 5\n",
      "[1, 2, 3, 4, 5]\n"
     ]
    }
   ],
   "source": [
    "#For doing it all in single line.\n",
    "\n",
    "li=[int(i) for i in input().split()] #Remember this, it's very useful. \n",
    "print(li)"
   ]
  },
  {
   "cell_type": "code",
   "execution_count": 44,
   "id": "4eb40d4a",
   "metadata": {},
   "outputs": [
    {
     "name": "stdout",
     "output_type": "stream",
     "text": [
      "2 4\n",
      "2\n",
      "4\n"
     ]
    }
   ],
   "source": [
    "#Not related to lists or arrays but I saw it on codechef, pretty useful. \n",
    "(a, b) = map(int, input().split())\n",
    "print(a)\n",
    "print(b)"
   ]
  },
  {
   "cell_type": "code",
   "execution_count": 7,
   "id": "2bb5a94d",
   "metadata": {},
   "outputs": [
    {
     "name": "stdout",
     "output_type": "stream",
     "text": [
      "2 4\n",
      "[2, 4]\n"
     ]
    }
   ],
   "source": [
    "#For the above code to be in a list:\n",
    "(a,b)=map(int,input().split())\n",
    "x=[a,b]\n",
    "print(x)"
   ]
  },
  {
   "cell_type": "code",
   "execution_count": 45,
   "id": "f74cb679",
   "metadata": {},
   "outputs": [
    {
     "name": "stdout",
     "output_type": "stream",
     "text": [
      "2 4 6 8 10\n",
      "2\n",
      "4\n",
      "6\n",
      "8\n",
      "10\n"
     ]
    }
   ],
   "source": [
    "#taking space seperating input and printing them.\n",
    "\n",
    "r=[int(x) for x in input().split()]\n",
    "for i in r:\n",
    "    print(i)"
   ]
  },
  {
   "cell_type": "markdown",
   "id": "fbb3f08d",
   "metadata": {},
   "source": [
    "## Array Sum\n",
    "\n",
    "Given an array of length N, you need to find and print the sum of all elements of the array."
   ]
  },
  {
   "cell_type": "code",
   "execution_count": 1,
   "id": "5d32543c",
   "metadata": {},
   "outputs": [
    {
     "name": "stdout",
     "output_type": "stream",
     "text": [
      "2\n",
      "1 2 3  4 5 6 7 8 9 10 \n",
      "55\n"
     ]
    }
   ],
   "source": [
    "n=input()  #Am I blind or is n useless here? Idk why they taught it like that in video\n",
    "li=[int(x) for x in input().split()]\n",
    "sum=0\n",
    "for i in li:\n",
    "    sum=sum+i\n",
    "print(sum)"
   ]
  },
  {
   "cell_type": "code",
   "execution_count": 3,
   "id": "6aea327d",
   "metadata": {},
   "outputs": [
    {
     "name": "stdout",
     "output_type": "stream",
     "text": [
      "2 4 5 6 8 9 \n",
      "5\n",
      "2\n"
     ]
    }
   ],
   "source": [
    "#linear search:\n",
    "li=[int(x) for x in input().split()]\n",
    "ele=int(input())\n",
    "isFound=False\n",
    "for i in range(len(li)):\n",
    "    if li[i]==ele:\n",
    "        print(i)\n",
    "        isFound=True\n",
    "        break\n",
    "        \n",
    "if isFound==False:\n",
    "    print(-1)"
   ]
  },
  {
   "cell_type": "code",
   "execution_count": 7,
   "id": "a16498aa",
   "metadata": {},
   "outputs": [
    {
     "name": "stdout",
     "output_type": "stream",
     "text": [
      "2\n"
     ]
    }
   ],
   "source": [
    "#Linear search using functions:\n",
    "\n",
    "def linear_search(li,ele): #li is list and ele is element to be found\n",
    "    for i in range(len(li)):\n",
    "        if li[i]==ele:\n",
    "            return i\n",
    "        return -1\n",
    "\n",
    "li=[2,4,5,6,8,9]\n",
    "index=linear_search(li,8)\n",
    "print(i)"
   ]
  },
  {
   "cell_type": "markdown",
   "id": "28c606ab",
   "metadata": {},
   "source": [
    "### Passing variable through functions"
   ]
  },
  {
   "cell_type": "code",
   "execution_count": 9,
   "id": "94213d15",
   "metadata": {},
   "outputs": [
    {
     "name": "stdout",
     "output_type": "stream",
     "text": [
      "2\n"
     ]
    }
   ],
   "source": [
    "def increment(a):\n",
    "    a=a+2\n",
    "    return \n",
    "\n",
    "a=2\n",
    "increment(a)\n",
    "print(a)"
   ]
  },
  {
   "cell_type": "code",
   "execution_count": 10,
   "id": "e450b6ec",
   "metadata": {},
   "outputs": [
    {
     "name": "stdout",
     "output_type": "stream",
     "text": [
      "2\n"
     ]
    }
   ],
   "source": [
    "def increment(a):\n",
    "    a=a+2\n",
    "    return a\n",
    "\n",
    "a=2\n",
    "increment(a)\n",
    "print(a)"
   ]
  },
  {
   "cell_type": "code",
   "execution_count": 11,
   "id": "7c88aa0b",
   "metadata": {},
   "outputs": [
    {
     "name": "stdout",
     "output_type": "stream",
     "text": [
      "4\n"
     ]
    }
   ],
   "source": [
    "def increment(a):\n",
    "    a=a+2\n",
    "    return a\n",
    "\n",
    "a=2\n",
    "a=increment(a) #see the difference\n",
    "print(a)"
   ]
  },
  {
   "cell_type": "markdown",
   "id": "d6c640c1",
   "metadata": {},
   "source": [
    "### Passing list through functions"
   ]
  },
  {
   "cell_type": "code",
   "execution_count": 12,
   "id": "c57ea6aa",
   "metadata": {},
   "outputs": [
    {
     "name": "stdout",
     "output_type": "stream",
     "text": [
      "[3, 2, 3, 4]\n"
     ]
    }
   ],
   "source": [
    "def increment(li):\n",
    "    li[0]=li[0]+2\n",
    "    return\n",
    "\n",
    "li=[1,2,3,4]\n",
    "increment(li)\n",
    "print(li)"
   ]
  },
  {
   "cell_type": "code",
   "execution_count": 13,
   "id": "31221935",
   "metadata": {},
   "outputs": [
    {
     "name": "stdout",
     "output_type": "stream",
     "text": [
      "[1, 2, 3, 4]\n"
     ]
    }
   ],
   "source": [
    "def increment(li):\n",
    "    li=[3,3,4]\n",
    "    return\n",
    "\n",
    "li=[1,2,3,4]\n",
    "increment(li)\n",
    "print(li)"
   ]
  },
  {
   "cell_type": "code",
   "execution_count": 15,
   "id": "e00a557f",
   "metadata": {},
   "outputs": [
    {
     "name": "stdout",
     "output_type": "stream",
     "text": [
      "[1, 2, 3, 4]\n"
     ]
    }
   ],
   "source": [
    "def increment(li):\n",
    "    li=[3,3,4]\n",
    "    return li\n",
    "\n",
    "li=[1,2,3,4]\n",
    "increment(li)\n",
    "print(li)"
   ]
  },
  {
   "cell_type": "code",
   "execution_count": 16,
   "id": "197a271d",
   "metadata": {},
   "outputs": [
    {
     "name": "stdout",
     "output_type": "stream",
     "text": [
      "[3, 3, 4]\n"
     ]
    }
   ],
   "source": [
    "def increment(li):\n",
    "    li=[3,3,4]\n",
    "    return li\n",
    "\n",
    "li=[1,2,3,4]\n",
    "li=increment(li) #see here\n",
    "print(li)"
   ]
  },
  {
   "cell_type": "code",
   "execution_count": 21,
   "id": "8a638f76",
   "metadata": {},
   "outputs": [
    {
     "name": "stdout",
     "output_type": "stream",
     "text": [
      "[60, 20, 30, 40, 50, 10]\n"
     ]
    }
   ],
   "source": [
    "#Reverse List\n",
    "def reverse(li):\n",
    "    length=len(li)\n",
    "    for i in range(length//2):\n",
    "        li[i],li[length-i-1]=li[length-i-1],li[i]\n",
    "        return li\n",
    "        \n",
    "        \n",
    "\n",
    "li=[10,20,30,40,50,60]\n",
    "li=reverse(li)\n",
    "print(li)"
   ]
  },
  {
   "cell_type": "code",
   "execution_count": 26,
   "id": "9d0eb8b0",
   "metadata": {},
   "outputs": [
    {
     "name": "stdout",
     "output_type": "stream",
     "text": [
      "[60, 20, 30, 40, 50, 10]\n"
     ]
    }
   ],
   "source": [
    "#Reverse List 2\n",
    "def reverse_1(li):\n",
    "    length=len(li)\n",
    "    for i in range(length//2):\n",
    "        li[i],li[-i-1]=li[-i-1],li[i]  #It may be difficult to understand now but do a dry run\n",
    "        return li\n",
    "        \n",
    "        \n",
    "\n",
    "li=[10,20,30,40,50,60]\n",
    "li=reverse_1(li)\n",
    "print(li)"
   ]
  },
  {
   "cell_type": "code",
   "execution_count": 27,
   "id": "891e11d7",
   "metadata": {},
   "outputs": [
    {
     "name": "stdout",
     "output_type": "stream",
     "text": [
      "[60, 50, 40, 30, 20, 10]\n"
     ]
    }
   ],
   "source": [
    "#reverse 3\n",
    "\n",
    "li=[10,20,30,40,50,60]\n",
    "li=li[::-1]\n",
    "print(li)"
   ]
  },
  {
   "cell_type": "markdown",
   "id": "542bb7ca",
   "metadata": {},
   "source": [
    "## Swap Alternate\n",
    "\n",
    "You have been given an array/list(ARR) of size N. You need to swap every pair of alternate elements in the array/list.\n",
    "You don't need to print or return anything, just change in the input array itself."
   ]
  },
  {
   "cell_type": "code",
   "execution_count": 30,
   "id": "e516f6d4",
   "metadata": {},
   "outputs": [
    {
     "name": "stdout",
     "output_type": "stream",
     "text": [
      "[20, 10, 30, 40, 50, 60]\n"
     ]
    }
   ],
   "source": [
    "def swap_l(li):\n",
    "    for i in range (0,len(li)-1,2):\n",
    "        li[i],li[i+1]=li[i+1],li[i]\n",
    "        return li\n",
    "        \n",
    "li=[10,20,30,40,50,60]\n",
    "li=swap_l(li)\n",
    "print(li)"
   ]
  },
  {
   "cell_type": "code",
   "execution_count": null,
   "id": "f901ee5d",
   "metadata": {},
   "outputs": [],
   "source": [
    "#For running they did this:\n",
    "\n",
    "t = int(input()) #t is test case ig\n",
    "while t>0:\n",
    "    n = int(input()) #it shows the no. of elements in list, but here it's useless.\n",
    "    li=[int(x) for x in input().split()]   #taking list                            \n",
    "    swap_l(li) #Applying function\n",
    "    for i in (li): #printing every element in list\n",
    "        print(i, end=\" \")\n",
    "    print()\n",
    "    t-=1  #decreasing test case no."
   ]
  },
  {
   "cell_type": "markdown",
   "id": "fe5e01b3",
   "metadata": {},
   "source": [
    "## Find Unique\n",
    "\n",
    "You have been given an integer array/list(ARR) of size N. Where N is equal to [2M + 1].\n",
    "Now, in the given array/list, 'M' numbers are present twice and one number is present only once.\n",
    "You need to find and return that number which is unique in the array/list."
   ]
  },
  {
   "cell_type": "code",
   "execution_count": 32,
   "id": "c0473703",
   "metadata": {},
   "outputs": [
    {
     "name": "stdout",
     "output_type": "stream",
     "text": [
      "1\n"
     ]
    }
   ],
   "source": [
    "import sys\n",
    "\n",
    "def findUnique(arr, n) :\n",
    "    for i in range(n) :\n",
    "        j = 0\n",
    "        while j < n :\n",
    "            if i != j :\n",
    "                if arr[i] == arr[j] :\n",
    "                    break\n",
    "            j += 1\n",
    "        if j == n : \n",
    "            return arr[i]\n",
    "        \n",
    "arr=[2,3,1,6,3,6,2]\n",
    "n=7\n",
    "a=findUnique(arr, n)\n",
    "print(a)"
   ]
  },
  {
   "cell_type": "code",
   "execution_count": null,
   "id": "dd643990",
   "metadata": {},
   "outputs": [],
   "source": [
    "#the way they took input\n",
    "\n",
    "#Taking Input Using Fast I/O\n",
    "def takeInput() :\n",
    "    n = int(sys.stdin.readline().rstrip())\n",
    "\n",
    "    if n == 0 :\n",
    "        return list(), 0\n",
    "\n",
    "    arr = list(map(int, sys.stdin.readline().rstrip().split(\" \")))\n",
    "    return arr, n\n",
    "\n",
    "\n",
    "#main\n",
    "t = int(sys.stdin.readline().rstrip())\n",
    "\n",
    "while t > 0 :\n",
    "\n",
    "    arr, n = takeInput()\n",
    "    print(findUnique(arr, n))\n",
    "\n",
    "    t -= 1"
   ]
  },
  {
   "cell_type": "markdown",
   "id": "a7c1fb63",
   "metadata": {},
   "source": [
    "## Find Duplicate\n",
    "\n",
    "You have been given an integer array/list(ARR) of size N which contains numbers from 0 to (N - 2). Each number is present at least once. That is, if N = 5, the array/list constitutes values ranging from 0 to 3 and among these, there is a single integer value that is present twice. You need to find and return that duplicate number present in the array."
   ]
  },
  {
   "cell_type": "code",
   "execution_count": 35,
   "id": "20dba105",
   "metadata": {},
   "outputs": [
    {
     "name": "stdout",
     "output_type": "stream",
     "text": [
      "7\n"
     ]
    }
   ],
   "source": [
    "def findDuplicate(arr, n) :\n",
    "    for i in range(n) :\n",
    "        j = 0\n",
    "        while j < n :\n",
    "            if i != j :\n",
    "                if arr[i] == arr[j] :\n",
    "                    return arr[i]\n",
    "            j += 1\n",
    "            \n",
    "arr=[0,7,2,5,4,7,1,3,6]\n",
    "n=7\n",
    "a=findDuplicate(arr, n)\n",
    "print(a)"
   ]
  },
  {
   "cell_type": "markdown",
   "id": "7c7b1330",
   "metadata": {},
   "source": [
    "## Intersection of Two Arrays II\n",
    "\n",
    "You have been given two integer arrays/list(ARR1 and ARR2) of size N and M, respectively. You need to print their intersection; An intersection for this problem can be defined when both the arrays/lists contain a particular value or to put it in other words, when there is a common value that exists in both the arrays/lists."
   ]
  },
  {
   "cell_type": "code",
   "execution_count": 42,
   "id": "5b8b0cb2",
   "metadata": {},
   "outputs": [
    {
     "name": "stdout",
     "output_type": "stream",
     "text": [
      "2 1 2 None\n"
     ]
    }
   ],
   "source": [
    "def intersection(arr1,n,arr2,m):\n",
    "    for i in range(n):\n",
    "        for j in range(m):\n",
    "            if arr1[i]==arr2[j]:\n",
    "                print(arr1[i],end=\" \")\n",
    "                arr2[j]=sys.maxsize\n",
    "                break\n",
    "    return\n",
    "\n",
    "n=4\n",
    "arr1=[2,6,1,2]\n",
    "m=5\n",
    "arr2=[1,2,3,4,2]\n",
    "\n",
    "a=intersection(arr1,n,arr2,m)\n",
    "print(a)"
   ]
  },
  {
   "cell_type": "markdown",
   "id": "428a348f",
   "metadata": {},
   "source": [
    "## Pair Sum\n",
    "\n",
    "You have been given an integer array/list(ARR) and a number X. Find and return the total number of pairs in the array/list which sum to X."
   ]
  },
  {
   "cell_type": "code",
   "execution_count": 45,
   "id": "928f6d8e",
   "metadata": {},
   "outputs": [
    {
     "name": "stdout",
     "output_type": "stream",
     "text": [
      "4\n"
     ]
    }
   ],
   "source": [
    "def pairSum(arr, n, x) :\n",
    "    count=0\n",
    "    for i in range(n):\n",
    "        for j in range(i + 1, n):\n",
    "            if arr[i] + arr[j] == x:\n",
    "               count += 1               \n",
    "    return count\n",
    "\n",
    "\n",
    "n=9 #represents no. of elements in array\n",
    "x=9 #no. to find to make a pair of\n",
    "arr=[1,3,6,2,5,4,3,2,4]\n",
    "a=pairSum(arr, n, x)\n",
    "print(a)"
   ]
  },
  {
   "cell_type": "markdown",
   "id": "17c8ade2",
   "metadata": {},
   "source": [
    "## Triplet Sum\n",
    "\n",
    "You have been given a random integer array/list(ARR) and a number X. Find and return the number of triplets in the array/list which sum to X."
   ]
  },
  {
   "cell_type": "code",
   "execution_count": 47,
   "id": "4ea3bc9c",
   "metadata": {},
   "outputs": [
    {
     "name": "stdout",
     "output_type": "stream",
     "text": [
      "14\n"
     ]
    }
   ],
   "source": [
    "def findTriplet(arr, n, x) :\n",
    "    count=0\n",
    "    for i in range(0,n):\n",
    "        for j in range(i + 1, n):\n",
    "            for k in range(j+1,n):\n",
    "                if arr[i] + arr[j]+arr[k] == x:\n",
    "               \n",
    "                    count += 1               \n",
    "    return count\n",
    "\n",
    "\n",
    "n=9 \n",
    "x=9 \n",
    "arr=[1,3,6,2,5,4,3,2,4]\n",
    "a=findTriplet(arr, n, x)\n",
    "print(a)"
   ]
  },
  {
   "cell_type": "markdown",
   "id": "b5ccb791",
   "metadata": {},
   "source": [
    "## Sort 0 1\n",
    "\n",
    "You have been given an integer array/list(ARR) of size N that contains only integers, 0 and 1. Write a function to sort this array/list. Think of a solution which scans the array/list only once and don't require use of an extra array/list."
   ]
  },
  {
   "cell_type": "code",
   "execution_count": 48,
   "id": "b8081d13",
   "metadata": {},
   "outputs": [
    {
     "name": "stdout",
     "output_type": "stream",
     "text": [
      "[0, 0, 0, 1, 1, 1, 1]\n"
     ]
    }
   ],
   "source": [
    "def sortZeroesAndOne(arr, n) :\n",
    "    leftside = []\n",
    "    rightside = []\n",
    "    for i in arr:\n",
    "        if i == 0:\n",
    "            leftside.append(i)\n",
    "        else:\n",
    "            rightside.append(i)\n",
    "\n",
    "    leftside.extend(rightside)\n",
    "    return leftside\n",
    "\n",
    "arr=[0,1,1,0,1,0,1]\n",
    "n=7\n",
    "a=sortZeroesAndOne(arr, n)\n",
    "print(a)"
   ]
  }
 ],
 "metadata": {
  "kernelspec": {
   "display_name": "Python 3 (ipykernel)",
   "language": "python",
   "name": "python3"
  },
  "language_info": {
   "codemirror_mode": {
    "name": "ipython",
    "version": 3
   },
   "file_extension": ".py",
   "mimetype": "text/x-python",
   "name": "python",
   "nbconvert_exporter": "python",
   "pygments_lexer": "ipython3",
   "version": "3.9.12"
  }
 },
 "nbformat": 4,
 "nbformat_minor": 5
}
