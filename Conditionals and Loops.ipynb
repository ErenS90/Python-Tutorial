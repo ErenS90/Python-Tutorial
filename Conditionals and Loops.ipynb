{
 "cells": [
  {
   "cell_type": "markdown",
   "id": "7270b66a",
   "metadata": {},
   "source": [
    "## Check number.\n",
    "Given an integer n, find if n is positive, negative or 0.\n",
    "If n is positive, print \"Positive\"\n",
    "If n is negative, print \"Negative\"\n",
    "And if n is equal to 0, print \"Zero\"."
   ]
  },
  {
   "cell_type": "code",
   "execution_count": null,
   "id": "806dbeec",
   "metadata": {},
   "outputs": [],
   "source": [
    "a=int(input())\n",
    "if a>0:\n",
    "    print(\"Positive\")\n",
    "elif a<0:\n",
    "    print(\"Negative\")\n",
    "else:\n",
    "    print(\"Zero\")"
   ]
  },
  {
   "cell_type": "markdown",
   "id": "03183f46",
   "metadata": {},
   "source": [
    "## Sum of n numbers. \n",
    "Given an integer n, find and print the sum of numbers from 1 to n."
   ]
  },
  {
   "cell_type": "code",
   "execution_count": null,
   "id": "2d62a343",
   "metadata": {},
   "outputs": [],
   "source": [
    "n=int(input())\n",
    "sum=0\n",
    "while n>0:\n",
    "    sum=sum+n\n",
    "    n=n-1\n",
    "print(sum)"
   ]
  },
  {
   "cell_type": "markdown",
   "id": "972ac539",
   "metadata": {},
   "source": [
    "## Sum of Even Numbers.\n",
    "Given a number N, print sum of all even numbers from 1 to N."
   ]
  },
  {
   "cell_type": "code",
   "execution_count": null,
   "id": "b469fbde",
   "metadata": {},
   "outputs": [],
   "source": [
    "N=int(input())\n",
    "sum=0\n",
    "i=2\n",
    "while i<=N:\n",
    "    sum=sum+i\n",
    "    i=i+2\n",
    "print(sum)"
   ]
  },
  {
   "cell_type": "markdown",
   "id": "b89f5062",
   "metadata": {},
   "source": [
    "## Fahrenheit to Celsius.\n",
    "Given three values - Start Fahrenheit Value (S), End Fahrenheit value (E) and Step Size (W), you need to convert all Fahrenheit values from Start to End at the gap of W, into their corresponding Celsius values and print the table."
   ]
  },
  {
   "cell_type": "code",
   "execution_count": null,
   "id": "bcc731d6",
   "metadata": {},
   "outputs": [],
   "source": [
    "S=int(input())\n",
    "E=int(input())\n",
    "W=int(input())\n",
    "while S<=E:\n",
    "    formula=(5/9)*(S-32)\n",
    "    print(str(S)+\"\\t\"+str(int(formula)))\n",
    "    S=S+W"
   ]
  },
  {
   "cell_type": "markdown",
   "id": "28058bd1",
   "metadata": {},
   "source": [
    "## Calculator.\n",
    "Write a program that performs the tasks of a simple calculator. The program should first take an integer as input and then based on that integer perform the task as given below.\n",
    "1. If the input is 1, then 2 integers are taken from the user and their sum is printed.\n",
    "2. If the input is 2, then 2 integers are taken from the user and their difference(1st number - 2nd number) is printed.\n",
    "3. If the input is 3, then 2 integers are taken from the user and their product is printed.\n",
    "4. If the input is 4, then 2 integers are taken from the user and the quotient obtained (on dividing 1st number by 2nd number) is printed.\n",
    "5. If the input is 5, then 2 integers are taken from the user and their remainder(1st number mod 2nd number) is printed.\n",
    "6. If the input is 6, then the program exits.\n",
    "7. For any other input, then print \"Invalid Operation\"."
   ]
  },
  {
   "cell_type": "code",
   "execution_count": null,
   "id": "b6136249",
   "metadata": {},
   "outputs": [],
   "source": [
    "while True:\n",
    "    choice = int(input())\n",
    "    if (choice>=1 and choice<=5):\n",
    "        a = int(input())\n",
    "        b = int(input())\n",
    "        if choice == 1: \n",
    "            c = a + b\n",
    "            print(c)\n",
    "        elif choice == 2: \n",
    "            c = a - b\n",
    "            print(c)\n",
    "        elif choice == 3: \n",
    "            c = a * b\n",
    "            print(c)\n",
    "        elif choice == 4: \n",
    "            c = a // b\n",
    "            print(c)\n",
    "        elif choice == 5:\n",
    "            c = a % b\n",
    "            print(c)\n",
    "    elif choice == 6:\n",
    "        exit()\n",
    "    else:\n",
    "        print(\"Invalid Operation\")"
   ]
  },
  {
   "cell_type": "markdown",
   "id": "7ef42a00",
   "metadata": {},
   "source": [
    "## Reverse of a number.\n",
    "Write a program to generate the reverse of a given number N. Print the corresponding reverse number."
   ]
  },
  {
   "cell_type": "code",
   "execution_count": null,
   "id": "e6d67562",
   "metadata": {},
   "outputs": [],
   "source": [
    "num = int(input())\n",
    "rev = 0\n",
    "while num > 0:\n",
    "  rem = num % 10  # Finding the remainder\n",
    "  rev = (rev*10) + rem\n",
    "  num = num//10  # Finding the quotient\n",
    "print(\"%d \" %rev)"
   ]
  },
  {
   "cell_type": "markdown",
   "id": "448af962",
   "metadata": {},
   "source": [
    "## Palindrome number.\n",
    "Write a program to determine if given number is palindrome or not. Print true if it is palindrome, false otherwise."
   ]
  },
  {
   "cell_type": "code",
   "execution_count": null,
   "id": "c6f3b156",
   "metadata": {},
   "outputs": [],
   "source": [
    "n = int(input()); \n",
    "rev = 0\n",
    "temp=n\n",
    "\n",
    "while n > 0:\n",
    "    rem = n % 10\n",
    "    rev = rev * 10 + rem\n",
    "    n = n // 10\n",
    "if temp==rev:\n",
    "    print(\"true\")\n",
    "else:\n",
    "    print(\"false\")"
   ]
  },
  {
   "cell_type": "markdown",
   "id": "af5f9b33",
   "metadata": {},
   "source": [
    "## Sum of even & odd.\n",
    "Write a program to input an integer N and print the sum of all its even digits and sum of all its odd digits separately."
   ]
  },
  {
   "cell_type": "code",
   "execution_count": null,
   "id": "05b38106",
   "metadata": {},
   "outputs": [],
   "source": [
    "n=int(input())\n",
    "e = 0\n",
    "o = 0\n",
    "x = 0\n",
    "while n>0:\n",
    "    x = n%10\n",
    "    if x%2==0:\n",
    "        e = e+x\n",
    "    else:\n",
    "        o = o+x\n",
    "    n = n//10\n",
    "print(e, o)"
   ]
  },
  {
   "cell_type": "markdown",
   "id": "a3ecc78e",
   "metadata": {},
   "source": [
    "## Nth Fibonacci Number.\n",
    "Nth term of Fibonacci series F(n), where F(n) is a function, is calculated using the following formula -\n",
    "    F(n) = F(n-1) + F(n-2), \n",
    "    Where, F(1) = F(2) = 1"
   ]
  },
  {
   "cell_type": "code",
   "execution_count": null,
   "id": "fb06c622",
   "metadata": {},
   "outputs": [],
   "source": [
    "n=int(input())\n",
    "a = 0\n",
    "b = 1\n",
    "if n == 0:\n",
    "    print(a)\n",
    "elif n == 1:\n",
    "     print(b)\n",
    "else:\n",
    "    for i in range(2,n+1):\n",
    "        c = a + b\n",
    "        a = b\n",
    "        b = c\n",
    "    print(b)"
   ]
  }
 ],
 "metadata": {
  "kernelspec": {
   "display_name": "Python 3 (ipykernel)",
   "language": "python",
   "name": "python3"
  },
  "language_info": {
   "codemirror_mode": {
    "name": "ipython",
    "version": 3
   },
   "file_extension": ".py",
   "mimetype": "text/x-python",
   "name": "python",
   "nbconvert_exporter": "python",
   "pygments_lexer": "ipython3",
   "version": "3.9.12"
  }
 },
 "nbformat": 4,
 "nbformat_minor": 5
}
