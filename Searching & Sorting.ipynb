{
 "cells": [
  {
   "cell_type": "markdown",
   "id": "b7bc5bfb",
   "metadata": {},
   "source": [
    "## Binary Search\n",
    "\n",
    "You have been given a sorted(in ascending order) integer array/list(ARR) of size N and an element X. Write a function to search this element in the given input array/list using 'Binary Search'. Return the index of the element in the input array/list. In case the element is not present in the array/list, then return -1."
   ]
  },
  {
   "cell_type": "code",
   "execution_count": 2,
   "id": "ba5a429c",
   "metadata": {},
   "outputs": [
    {
     "name": "stdout",
     "output_type": "stream",
     "text": [
      "2\n"
     ]
    }
   ],
   "source": [
    "def binarySearch(arr, n, x) :\n",
    "    low=0\n",
    "    high=n-1  # (-1) since we are starting array rom 0, not 1. \n",
    "    \n",
    "    while low<=high:\n",
    "        mid=(low+high)//2\n",
    "        if arr[mid]==x:\n",
    "            return mid\n",
    "        elif arr[mid]>x:\n",
    "            high=mid-1\n",
    "        else:\n",
    "            low=mid+1\n",
    "    return -1\n",
    "\n",
    "arr=[1,3,7,9,11,12,45]\n",
    "n=7\n",
    "x=7\n",
    "\n",
    "a=binarySearch(arr, n, x)\n",
    "print(a)\n",
    "\n",
    "#In binary search we get an already sorted element and then search for our desired value.\n",
    "#If our value==mid, it's all good. \n",
    "#If our value>mid then upper limit stays the same and lower limit goes to mid+1.\n",
    "#If our value<mid then lower limit stays the same and upper limit goes to mid-1.\n",
    "#When lower limit, upper limit and mid are all same then we have found the value.(Assuming that the desired element is present in the list)"
   ]
  },
  {
   "cell_type": "markdown",
   "id": "9fc1b254",
   "metadata": {},
   "source": [
    "## Selection Sort\n",
    "Provided with a random integer array/list(ARR) of size N, you have been required to sort this array using 'Selection Sort'."
   ]
  },
  {
   "cell_type": "code",
   "execution_count": 3,
   "id": "ad3bffce",
   "metadata": {},
   "outputs": [
    {
     "name": "stdout",
     "output_type": "stream",
     "text": [
      "[1, 2, 3, 4, 6, 13, 28]\n"
     ]
    }
   ],
   "source": [
    "def selectionSort(arr, n) :\n",
    "    for i in range(n):\n",
    "        min=i\n",
    "        for j in range (i+1,n):\n",
    "            if arr[j]<arr[min]:\n",
    "                min=j\n",
    "        arr[i],arr[min]=arr[min],arr[i]\n",
    "    return arr\n",
    "\n",
    "n=7\n",
    "arr=[2,13,4,1,3,6,28]\n",
    "a=selectionSort(arr, n)\n",
    "print(a)\n",
    "\n",
    "#Difficult to explain in comments, but let's give it a try.\n",
    "#First we take the first value as min value and check if there is any other value that is smaller than it\n",
    "#When we find the smallest value, we replace it with the first one. Now, the first value is fixed.\n",
    "#Do the same for second value(Don't include the first value).\n",
    "#Repeat this step for all elements till the end."
   ]
  },
  {
   "cell_type": "markdown",
   "id": "0137b7cb",
   "metadata": {},
   "source": [
    "## Bubble Sort\n",
    "\n",
    "Provided with a random integer array/list(ARR) of size N, you have been required to sort this array using 'Bubble Sort'."
   ]
  },
  {
   "cell_type": "code",
   "execution_count": 1,
   "id": "7f573b58",
   "metadata": {},
   "outputs": [
    {
     "name": "stdout",
     "output_type": "stream",
     "text": [
      "[1, 2, 3, 4, 6, 13, 28]\n"
     ]
    }
   ],
   "source": [
    "def bubbleSort(arr, n) :\n",
    "    for i in range(n-1): #It gives same result with (n).\n",
    "        for j in range(n-1-i): #For Pass, we are excluding ith element from the other unsorted elements.\n",
    "            if arr[j]>arr[j+1]:\n",
    "                arr[j],arr[j+1]=arr[j+1],arr[j]\n",
    "    return arr\n",
    "\n",
    "n=7\n",
    "arr=[2,13,4,1,3,6,28]\n",
    "a=bubbleSort(arr, n)\n",
    "print(a)\n",
    "\n",
    "#Here we take pairs and compare then and if first element is greater than the other then they will swap.\n",
    "#Do this till the largest value reaches the end.\n",
    "#that's the first pass.\n",
    "#Repeat this till you find the sorted array.\n",
    "#Note! For n elements in array, we would need (n-1) passes."
   ]
  },
  {
   "cell_type": "markdown",
   "id": "475a16ee",
   "metadata": {},
   "source": [
    "## Code Insertion Sort\n",
    "\n",
    "Provided with a random integer array/list(ARR) of size N, you have been required to sort this array using 'Insertion Sort'."
   ]
  },
  {
   "cell_type": "code",
   "execution_count": 3,
   "id": "c5c13468",
   "metadata": {},
   "outputs": [
    {
     "name": "stdout",
     "output_type": "stream",
     "text": [
      "[1, 2, 3, 4, 6, 13, 28]\n"
     ]
    }
   ],
   "source": [
    "def insertionSort(arr, n) :  \n",
    "    for i in range(1,n):\n",
    "        j=i-1\n",
    "        temp=arr[i]\n",
    "        while (j>=0 and arr[j]>temp): #Elements shifts till this codintion is applicable.\n",
    "            arr[j+1]=arr[j]\n",
    "            j-=1\n",
    "        arr[j+1]=temp #j+1 is the correct position for i'th element.\n",
    "    return arr\n",
    "        \n",
    "n=7\n",
    "arr=[2,13,4,1,3,6,28]\n",
    "a=insertionSort(arr, n)\n",
    "print(a)\n",
    "\n",
    "#We first assume that the first index element is sorted. (left most), and all elements on right side are unsorted.\n",
    "#We comapre all the elements of sorted with a single element of unsorted part.\n",
    "#In unsorted part we always go from left to right.\n",
    "#In sorted part, we always go from right to left."
   ]
  },
  {
   "cell_type": "markdown",
   "id": "4fe46db1",
   "metadata": {},
   "source": [
    "## Code Merge Two Sorted Arrays\n",
    "\n",
    "You have been given two sorted arrays/lists(ARR1 and ARR2) of size N and M respectively, merge them into a third array/list such that the third array is also sorted."
   ]
  },
  {
   "cell_type": "code",
   "execution_count": 4,
   "id": "a813481d",
   "metadata": {},
   "outputs": [
    {
     "name": "stdout",
     "output_type": "stream",
     "text": [
      "[4, 7, 9, 10, 25, 30, 100, 300, 450, 500]\n"
     ]
    }
   ],
   "source": [
    "def merge(arr1, n, arr2, m) : \n",
    "    i,j=0,0\n",
    "    new=[]\n",
    "    while(i<n and j<m):\n",
    "        if arr1[i]<arr2[j]:\n",
    "            new.append(arr1[i])\n",
    "            i+=1\n",
    "        else:\n",
    "            new.append(arr2[j])\n",
    "            j+=1\n",
    "    while (i<n):\n",
    "        new.append(arr1[i])\n",
    "        i+=1\n",
    "    while (j<m):\n",
    "        new.append(arr2[j])\n",
    "        j+=1\n",
    "    return new\n",
    "\n",
    "arr1=[10,100,500]\n",
    "arr2=[4,7,9,25,30,300,450]\n",
    "n=3\n",
    "m=7\n",
    "a=merge(arr1, n, arr2, m)\n",
    "print(a)\n",
    "\n",
    "\n",
    "#About this, I think it would be better to watch a video to understand.Same for above code(Insertion sort)."
   ]
  },
  {
   "cell_type": "markdown",
   "id": "97df472b",
   "metadata": {},
   "source": [
    "## Push Zeros to end\n",
    "\n",
    "You have been given a random integer array/list(ARR) of size N. You have been required to push all the zeros that are present in the array/list to the end of it. Also, make sure to maintain the relative order of the non-zero elements."
   ]
  },
  {
   "cell_type": "code",
   "execution_count": 2,
   "id": "9f05b7bb",
   "metadata": {},
   "outputs": [
    {
     "name": "stdout",
     "output_type": "stream",
     "text": [
      "[2, 1, 3, 0, 0, 0, 0]\n"
     ]
    }
   ],
   "source": [
    "def pushZerosAtEnd(arr, n) :\n",
    "    count = 0\n",
    "    for i  in range(n):\n",
    "        # count=0\n",
    "        if arr[i]!=0:\n",
    "            arr[count]=arr[i]\n",
    "            count+=1\n",
    "            \n",
    "    while count<n:\n",
    "        arr[count]=0\n",
    "        count+=1\n",
    "    return arr\n",
    "\n",
    "n=7\n",
    "arr=[2,0,0,1,3 ,0,0]\n",
    "a=pushZerosAtEnd(arr, n)\n",
    "print(a)"
   ]
  },
  {
   "cell_type": "markdown",
   "id": "7caad564",
   "metadata": {},
   "source": [
    "## Rotate array\n",
    "\n",
    "You have been given a random integer array/list(ARR) of size N. Write a function that rotates the given array/list by D elements(towards the left)."
   ]
  },
  {
   "cell_type": "code",
   "execution_count": 1,
   "id": "195cc0fd",
   "metadata": {},
   "outputs": [
    {
     "name": "stdout",
     "output_type": "stream",
     "text": [
      "[3, 4, 5, 6, 7, 1, 2]\n"
     ]
    }
   ],
   "source": [
    "def rotate(arr, n, d):\n",
    "    temp = []\n",
    "    i = 0\n",
    "    while (i < d):\n",
    "        temp.append(arr[i])\n",
    "        i = i + 1\n",
    "    i = 0\n",
    "    while (d < n):\n",
    "        arr[i] = arr[d]\n",
    "        i = i + 1\n",
    "        d = d + 1\n",
    "    arr[:] = arr[: i] + temp\n",
    "    return arr\n",
    "\n",
    "n=7\n",
    "arr=[1,2,3,4,5,6,7]\n",
    "d=2 #It is the value by which the array needs to be rotated.\n",
    "a=rotate(arr, n, d)\n",
    "print(a)"
   ]
  },
  {
   "cell_type": "markdown",
   "id": "baaf4cb5",
   "metadata": {},
   "source": [
    "## Second Largest in array\n",
    "\n",
    "You have been given a random integer array/list(ARR) of size N. You are required to find and return the second largest element present in the array/list.\n",
    "If N <= 1 or all the elements are same in the array/list then return -2147483648 or -2 ^ 31(It is the smallest value for the range of Integer)"
   ]
  },
  {
   "cell_type": "code",
   "execution_count": 3,
   "id": "b3fc7367",
   "metadata": {},
   "outputs": [
    {
     "name": "stdout",
     "output_type": "stream",
     "text": [
      "13\n"
     ]
    }
   ],
   "source": [
    "def secondLargestElement(arr, n):\n",
    "    if (n <= 1):\n",
    "        return -2147483648\n",
    "    first = second = -2147483648\n",
    "    for i in range(n):\n",
    "        if (arr[i] > first):\n",
    "            second = first\n",
    "            first = arr[i]\n",
    "        # elif (arr[i] > second and arr[i] != first):\n",
    "        #     second = arr[i]\n",
    "    return second\n",
    "n=7\n",
    "arr=[2,13,4,1,3,6,28]\n",
    "a=secondLargestElement(arr, n)\n",
    "print(a)"
   ]
  },
  {
   "cell_type": "markdown",
   "id": "bddb6d72",
   "metadata": {},
   "source": [
    "## Check Array Rotation\n",
    "\n",
    "You have been given an integer array/list(ARR) of size N. It has been sorted(in increasing order) and then rotated by some number 'K' in the right hand direction.\n",
    "Your task is to write a function that returns the value of 'K', that means, the index from which the array/list has been rotated."
   ]
  },
  {
   "cell_type": "code",
   "execution_count": 4,
   "id": "3f66b5c6",
   "metadata": {},
   "outputs": [
    {
     "name": "stdout",
     "output_type": "stream",
     "text": [
      "2\n"
     ]
    }
   ],
   "source": [
    "def arrayRotateCheck(arr, n):\n",
    "    #Your code goes here\n",
    "    for i in range(n-1):\n",
    "        if arr[i] > arr[i+1]:\n",
    "            return i+1\n",
    "    return 0\n",
    "n=6\n",
    "arr=[5,6,1,2,3,4]\n",
    "a=arrayRotateCheck(arr, n)\n",
    "print(a)"
   ]
  },
  {
   "cell_type": "markdown",
   "id": "c3987515",
   "metadata": {},
   "source": [
    "## Sort 0 1 2\n",
    "\n",
    "You are given an integer array/list(ARR) of size N. It contains only 0s, 1s and 2s. Write a solution to sort this array/list in a 'single scan'.\n",
    "'Single Scan' refers to iterating over the array/list just once or to put it in other words, you will be visiting each element in the array/list just once."
   ]
  },
  {
   "cell_type": "code",
   "execution_count": 5,
   "id": "2c03e491",
   "metadata": {},
   "outputs": [
    {
     "name": "stdout",
     "output_type": "stream",
     "text": [
      "[0, 0, 0, 1, 1, 2, 2]\n"
     ]
    }
   ],
   "source": [
    "def sort012(arr, n) :\n",
    "    leftside = []\n",
    "    rightside = []\n",
    "    mid=[]\n",
    "    for i in arr:\n",
    "        if i == 0:\n",
    "            leftside.append(i)\n",
    "        elif i==1:\n",
    "            mid.append(i)\n",
    "        else:\n",
    "            rightside.append(i)\n",
    "\n",
    "    leftside.extend(mid)\n",
    "    leftside.extend(rightside)\n",
    "    return leftside\n",
    "\n",
    "n=7\n",
    "arr=[0,1,2,0,2,0,1]\n",
    "a=sort012(arr, n)\n",
    "print(a)"
   ]
  },
  {
   "cell_type": "markdown",
   "id": "c79f27d5",
   "metadata": {},
   "source": [
    "## Sum of Two Arrays\n",
    "\n",
    "Two random integer arrays/lists have been given as ARR1 and ARR2 of size N and M respectively. Both the arrays/lists contain numbers from 0 to 9(i.e. single digit integer is present at every index). The idea here is to represent each array/list as an integer in itself of digits N and M.\n",
    "You need to find the sum of both the input arrays/list treating them as two integers and put the result in another array/list i.e. output array/list will also contain only single digit at every index."
   ]
  },
  {
   "cell_type": "code",
   "execution_count": 1,
   "id": "6ed0e477",
   "metadata": {},
   "outputs": [],
   "source": [
    "def sumOfTwoArrays(arr1, n, arr2, m, output) :\n",
    "    i ,j ,k ,carry =  n-1  ,m-1  ,max(m,n)  ,0\n",
    "    while k>=0 :\n",
    "        if i<0:\n",
    "            arr1[i]=0\n",
    "        if j<0:\n",
    "            arr2[j]=0\n",
    "            \n",
    "        sum=arr1[i] + arr2[j] + carry\n",
    "        output[k]= (sum%10) \n",
    "        carry= sum//10\n",
    "        i,j,k = i-1,j-1,k-1\n",
    "        \n",
    "#Don't use this code since I may have made a mistake somewhere and will check on it later."
   ]
  }
 ],
 "metadata": {
  "kernelspec": {
   "display_name": "Python 3 (ipykernel)",
   "language": "python",
   "name": "python3"
  },
  "language_info": {
   "codemirror_mode": {
    "name": "ipython",
    "version": 3
   },
   "file_extension": ".py",
   "mimetype": "text/x-python",
   "name": "python",
   "nbconvert_exporter": "python",
   "pygments_lexer": "ipython3",
   "version": "3.9.12"
  }
 },
 "nbformat": 4,
 "nbformat_minor": 5
}
