{
 "cells": [
  {
   "cell_type": "code",
   "execution_count": 2,
   "id": "bc653690",
   "metadata": {},
   "outputs": [
    {
     "name": "stdout",
     "output_type": "stream",
     "text": [
      "Rishav\n"
     ]
    }
   ],
   "source": [
    "a='Rishav'\n",
    "print(a)"
   ]
  },
  {
   "cell_type": "code",
   "execution_count": 6,
   "id": "019105f1",
   "metadata": {},
   "outputs": [
    {
     "name": "stdout",
     "output_type": "stream",
     "text": [
      "This is how  \n",
      "we print\n",
      "multi line strings\n"
     ]
    }
   ],
   "source": [
    "b='''This is how  \n",
    "we print\n",
    "multi line strings''' \n",
    "print(b)"
   ]
  },
  {
   "cell_type": "code",
   "execution_count": 7,
   "id": "0f941e0e",
   "metadata": {},
   "outputs": [],
   "source": [
    "s='Rishav'"
   ]
  },
  {
   "cell_type": "code",
   "execution_count": 8,
   "id": "89111c0b",
   "metadata": {},
   "outputs": [
    {
     "data": {
      "text/plain": [
       "'R'"
      ]
     },
     "execution_count": 8,
     "metadata": {},
     "output_type": "execute_result"
    }
   ],
   "source": [
    "s[0]"
   ]
  },
  {
   "cell_type": "code",
   "execution_count": 10,
   "id": "9660e227",
   "metadata": {},
   "outputs": [
    {
     "data": {
      "text/plain": [
       "'s'"
      ]
     },
     "execution_count": 10,
     "metadata": {},
     "output_type": "execute_result"
    }
   ],
   "source": [
    "s[2]"
   ]
  },
  {
   "cell_type": "code",
   "execution_count": 11,
   "id": "edbdf1a8",
   "metadata": {},
   "outputs": [
    {
     "data": {
      "text/plain": [
       "'v'"
      ]
     },
     "execution_count": 11,
     "metadata": {},
     "output_type": "execute_result"
    }
   ],
   "source": [
    "s[-1]"
   ]
  },
  {
   "cell_type": "code",
   "execution_count": 12,
   "id": "404b43b0",
   "metadata": {},
   "outputs": [],
   "source": [
    "a='''Hii \n",
    "let us write \n",
    "anything'''"
   ]
  },
  {
   "cell_type": "code",
   "execution_count": 13,
   "id": "c47cf8b5",
   "metadata": {},
   "outputs": [
    {
     "data": {
      "text/plain": [
       "'Hii \\nlet us write \\nanything'"
      ]
     },
     "execution_count": 13,
     "metadata": {},
     "output_type": "execute_result"
    }
   ],
   "source": [
    "a"
   ]
  },
  {
   "cell_type": "code",
   "execution_count": 14,
   "id": "931299ba",
   "metadata": {},
   "outputs": [
    {
     "data": {
      "text/plain": [
       "'H'"
      ]
     },
     "execution_count": 14,
     "metadata": {},
     "output_type": "execute_result"
    }
   ],
   "source": [
    "a[0]"
   ]
  },
  {
   "cell_type": "code",
   "execution_count": 18,
   "id": "167f526c",
   "metadata": {},
   "outputs": [
    {
     "data": {
      "text/plain": [
       "' '"
      ]
     },
     "execution_count": 18,
     "metadata": {},
     "output_type": "execute_result"
    }
   ],
   "source": [
    "a[3]  #See the output"
   ]
  },
  {
   "cell_type": "markdown",
   "id": "b930e8c6",
   "metadata": {},
   "source": [
    "### Concatenation of strings"
   ]
  },
  {
   "cell_type": "code",
   "execution_count": 23,
   "id": "c178ee45",
   "metadata": {},
   "outputs": [
    {
     "name": "stdout",
     "output_type": "stream",
     "text": [
      "red\n",
      "redbull\n",
      "redbullgivesyouwiings\n"
     ]
    }
   ],
   "source": [
    "a='red'\n",
    "print(a)\n",
    "a=a+'bull'\n",
    "print(a)\n",
    "a=a+'givesyou'+'wiings' #Multiple strings \n",
    "print(a)"
   ]
  },
  {
   "cell_type": "code",
   "execution_count": 24,
   "id": "93aecf8b",
   "metadata": {},
   "outputs": [
    {
     "name": "stdout",
     "output_type": "stream",
     "text": [
      "red\n",
      "redviolet\n"
     ]
    }
   ],
   "source": [
    "a='red'\n",
    "print(a)\n",
    "a+='violet'\n",
    "print(a)"
   ]
  },
  {
   "cell_type": "code",
   "execution_count": 27,
   "id": "68160388",
   "metadata": {},
   "outputs": [
    {
     "name": "stdout",
     "output_type": "stream",
     "text": [
      "redredred\n"
     ]
    }
   ],
   "source": [
    "a='red'\n",
    "a=a*3\n",
    "print(a)"
   ]
  },
  {
   "cell_type": "markdown",
   "id": "2ec457c2",
   "metadata": {},
   "source": [
    "## Slicing of strings"
   ]
  },
  {
   "cell_type": "code",
   "execution_count": 1,
   "id": "6bbabf11",
   "metadata": {},
   "outputs": [],
   "source": [
    "a='Rishav'"
   ]
  },
  {
   "cell_type": "code",
   "execution_count": 3,
   "id": "da958779",
   "metadata": {},
   "outputs": [
    {
     "data": {
      "text/plain": [
       "'Rish'"
      ]
     },
     "execution_count": 3,
     "metadata": {},
     "output_type": "execute_result"
    }
   ],
   "source": [
    "a[0:4]"
   ]
  },
  {
   "cell_type": "code",
   "execution_count": 4,
   "id": "d123cd0c",
   "metadata": {},
   "outputs": [
    {
     "data": {
      "text/plain": [
       "'ih'"
      ]
     },
     "execution_count": 4,
     "metadata": {},
     "output_type": "execute_result"
    }
   ],
   "source": [
    "a[1:4:2]"
   ]
  },
  {
   "cell_type": "code",
   "execution_count": 6,
   "id": "5414619f",
   "metadata": {},
   "outputs": [
    {
     "data": {
      "text/plain": [
       "''"
      ]
     },
     "execution_count": 6,
     "metadata": {},
     "output_type": "execute_result"
    }
   ],
   "source": [
    "a[-3:-5] "
   ]
  },
  {
   "cell_type": "code",
   "execution_count": 8,
   "id": "f9b9b84c",
   "metadata": {},
   "outputs": [
    {
     "data": {
      "text/plain": [
       "'hs'"
      ]
     },
     "execution_count": 8,
     "metadata": {},
     "output_type": "execute_result"
    }
   ],
   "source": [
    "a[-3:-5:-1] #Basic but remember it."
   ]
  },
  {
   "cell_type": "code",
   "execution_count": 7,
   "id": "9a86cdc0",
   "metadata": {},
   "outputs": [
    {
     "data": {
      "text/plain": [
       "'is'"
      ]
     },
     "execution_count": 7,
     "metadata": {},
     "output_type": "execute_result"
    }
   ],
   "source": [
    "a[-5:-3]"
   ]
  },
  {
   "cell_type": "code",
   "execution_count": 10,
   "id": "272eef2b",
   "metadata": {},
   "outputs": [
    {
     "data": {
      "text/plain": [
       "'Rishav'"
      ]
     },
     "execution_count": 10,
     "metadata": {},
     "output_type": "execute_result"
    }
   ],
   "source": [
    "a[:]"
   ]
  },
  {
   "cell_type": "markdown",
   "id": "a492ac16",
   "metadata": {},
   "source": [
    "### Iterating on strings"
   ]
  },
  {
   "cell_type": "code",
   "execution_count": 13,
   "id": "9806f21c",
   "metadata": {},
   "outputs": [
    {
     "name": "stdout",
     "output_type": "stream",
     "text": [
      "3\n"
     ]
    }
   ],
   "source": [
    "s='Hello World'\n",
    "count=0\n",
    "for i in s:\n",
    "    if i=='l':\n",
    "        count+=1\n",
    "print(count)"
   ]
  },
  {
   "cell_type": "code",
   "execution_count": 17,
   "id": "f5293f77",
   "metadata": {},
   "outputs": [
    {
     "name": "stdout",
     "output_type": "stream",
     "text": [
      "3\n"
     ]
    }
   ],
   "source": [
    "s='Hello World'\n",
    "count=0\n",
    "for i in range(len(s)):\n",
    "    if s[i]=='l': #see the difference from previous one.\n",
    "        count+=1\n",
    "print(count)"
   ]
  },
  {
   "cell_type": "code",
   "execution_count": 19,
   "id": "7ca0ac6f",
   "metadata": {},
   "outputs": [
    {
     "name": "stdout",
     "output_type": "stream",
     "text": [
      "it is a substring\n"
     ]
    }
   ],
   "source": [
    "if 'Wor' in s:\n",
    "    print('it is a substring')\n",
    "else:\n",
    "    print('it is not')"
   ]
  },
  {
   "cell_type": "code",
   "execution_count": 20,
   "id": "2a525229",
   "metadata": {},
   "outputs": [
    {
     "name": "stdout",
     "output_type": "stream",
     "text": [
      "True\n"
     ]
    }
   ],
   "source": [
    "a= 'Rishav'=='Rishav'\n",
    "print(a)"
   ]
  },
  {
   "cell_type": "code",
   "execution_count": 21,
   "id": "b2edb1e0",
   "metadata": {},
   "outputs": [
    {
     "name": "stdout",
     "output_type": "stream",
     "text": [
      "False\n"
     ]
    }
   ],
   "source": [
    "a= 'Rishav'>='rishav'\n",
    "print(a)   #smaller letters have greater ASCII values"
   ]
  },
  {
   "cell_type": "code",
   "execution_count": 25,
   "id": "2fa29e7e",
   "metadata": {},
   "outputs": [
    {
     "name": "stdout",
     "output_type": "stream",
     "text": [
      "False\n"
     ]
    }
   ],
   "source": [
    "a= 'BBC'<'ABC'\n",
    "print(a)   "
   ]
  },
  {
   "cell_type": "code",
   "execution_count": 26,
   "id": "df6626b7",
   "metadata": {},
   "outputs": [
    {
     "name": "stdout",
     "output_type": "stream",
     "text": [
      "True\n"
     ]
    }
   ],
   "source": [
    "a= 'Rishav'!='rishav'\n",
    "print(a)   "
   ]
  },
  {
   "cell_type": "markdown",
   "id": "01f36569",
   "metadata": {},
   "source": [
    "### Operations on strings"
   ]
  },
  {
   "cell_type": "markdown",
   "id": "2f2f0427",
   "metadata": {},
   "source": [
    "Split"
   ]
  },
  {
   "cell_type": "code",
   "execution_count": 1,
   "id": "7a8e2c31",
   "metadata": {},
   "outputs": [
    {
     "name": "stdout",
     "output_type": "stream",
     "text": [
      "['Hi', 'this', 'is', 'how', 'we', 'use', 'split']\n"
     ]
    }
   ],
   "source": [
    "#Split basically makes a list out of the given input\n",
    "a='Hi this is how we use split'\n",
    "b=a.split()\n",
    "print(b)"
   ]
  },
  {
   "cell_type": "code",
   "execution_count": 3,
   "id": "212f7a60",
   "metadata": {},
   "outputs": [
    {
     "name": "stdout",
     "output_type": "stream",
     "text": [
      "['Hi', 'this is how we use split']\n"
     ]
    }
   ],
   "source": [
    "#Splitting according to how many values we want in list\n",
    "c=a.split(' ',1)  #Iirc we already discussed about split in lists but still see the next example for revision.\n",
    "print(c) #Here as mentioned, only one comma is present to seperate them."
   ]
  },
  {
   "cell_type": "code",
   "execution_count": 8,
   "id": "1c218f0e",
   "metadata": {},
   "outputs": [
    {
     "name": "stdout",
     "output_type": "stream",
     "text": [
      "['Hello,hi,hola,idk,further']\n",
      "['Hello,hi,hola,idk,further']\n",
      "['Hello', 'hi', 'hola', 'idk', 'further']\n"
     ]
    }
   ],
   "source": [
    "a='Hello,hi,hola,idk,further'\n",
    "b=a.split() #this or (' ') is same\n",
    "#c=a.split('') #It will give empty seperator,add space.\n",
    "d=a.split(' ')\n",
    "e=a.split(',') #Inside ' '\n",
    "print(b) #No change\n",
    "print(d) #No change\n",
    "print(e) #Seperated by space in places of commas"
   ]
  },
  {
   "cell_type": "markdown",
   "id": "b37d57ba",
   "metadata": {},
   "source": [
    "Replace"
   ]
  },
  {
   "cell_type": "code",
   "execution_count": 10,
   "id": "95a9b208",
   "metadata": {},
   "outputs": [
    {
     "name": "stdout",
     "output_type": "stream",
     "text": [
      "Hi this is Light Yagami\n"
     ]
    }
   ],
   "source": [
    "a='Hi this is Kira'\n",
    "b=a.replace('Kira','Light Yagami')#Remember to store the value in a new string to see changes.\n",
    "print(b)"
   ]
  },
  {
   "cell_type": "markdown",
   "id": "42df3312",
   "metadata": {},
   "source": [
    "Find"
   ]
  },
  {
   "cell_type": "code",
   "execution_count": 12,
   "id": "fc92fdbc",
   "metadata": {},
   "outputs": [
    {
     "name": "stdout",
     "output_type": "stream",
     "text": [
      "11\n",
      "-1\n"
     ]
    }
   ],
   "source": [
    "a='Hi this is Kira'\n",
    "b=a.find('Ki')\n",
    "c=a.find('iK')\n",
    "print(b)\n",
    "print(c) #Shows that the index is not present\n",
    "\n",
    "#For finding within a certain index .... find('whatever you want to find',starting index,end index)   eg.('ki',8,12)"
   ]
  },
  {
   "cell_type": "markdown",
   "id": "348c6cf7",
   "metadata": {},
   "source": [
    "Upper and Lower"
   ]
  },
  {
   "cell_type": "code",
   "execution_count": 1,
   "id": "6c6c6224",
   "metadata": {},
   "outputs": [
    {
     "name": "stdout",
     "output_type": "stream",
     "text": [
      "HI THIS IS KIRA\n",
      "hi this is kira\n"
     ]
    }
   ],
   "source": [
    "a='Hi this is Kira'\n",
    "a=a.upper()\n",
    "print(a)\n",
    "b=a.lower()\n",
    "print(b)"
   ]
  },
  {
   "cell_type": "markdown",
   "id": "edd117f8",
   "metadata": {},
   "source": [
    "startswith"
   ]
  },
  {
   "cell_type": "code",
   "execution_count": 3,
   "id": "a918a67e",
   "metadata": {},
   "outputs": [
    {
     "name": "stdout",
     "output_type": "stream",
     "text": [
      "True\n"
     ]
    }
   ],
   "source": [
    "#It basically checks\n",
    "a='Hi this is Kira'\n",
    "b=a.startswith('Hi t')\n",
    "print(b)  "
   ]
  },
  {
   "cell_type": "code",
   "execution_count": 4,
   "id": "46e3a623",
   "metadata": {},
   "outputs": [
    {
     "name": "stdout",
     "output_type": "stream",
     "text": [
      "True\n"
     ]
    }
   ],
   "source": [
    "#To check if a particular substring is starting with a certain variable\n",
    "a='Hi this is Kira'\n",
    "b=a.startswith(' Ki',10,25) #('substring', starting index, end index)\n",
    "print(b)"
   ]
  },
  {
   "cell_type": "markdown",
   "id": "76bc7de1",
   "metadata": {},
   "source": [
    "## Replace Character in String"
   ]
  },
  {
   "cell_type": "code",
   "execution_count": 15,
   "id": "48462a61",
   "metadata": {},
   "outputs": [
    {
     "name": "stdout",
     "output_type": "stream",
     "text": [
      "Hs thss ss Ksra\n"
     ]
    }
   ],
   "source": [
    "def replacestr(string,char1,char2):\n",
    "    newstr=\"\"\n",
    "    for abc in string:\n",
    "        if abc==char1:\n",
    "            newstr+=char2\n",
    "        else:\n",
    "            newstr+=abc\n",
    "    return newstr\n",
    "\n",
    "a='Hi this is Kira'\n",
    "b=replacestr(a,'i','s')\n",
    "print(b)"
   ]
  },
  {
   "cell_type": "code",
   "execution_count": 13,
   "id": "9966a4e9",
   "metadata": {},
   "outputs": [
    {
     "name": "stdout",
     "output_type": "stream",
     "text": [
      "fdafdavxz\n"
     ]
    }
   ],
   "source": [
    "def replace(str,char1,char2):\n",
    "    \n",
    "    newStr=\"\"\n",
    "    for char in str:\n",
    "        if(char==char1):\n",
    "            newStr+=char2\n",
    "        else:\n",
    "            newStr+=char\n",
    "    return newStr\n",
    "    \n",
    "str=\"fsafsavxz\"\n",
    "str=replace(str,'s','d')\n",
    "print(str)"
   ]
  },
  {
   "cell_type": "markdown",
   "id": "3167e80c",
   "metadata": {},
   "source": [
    "## Count vowels,consonants,digits and special characters in string "
   ]
  },
  {
   "cell_type": "code",
   "execution_count": 1,
   "id": "5da0946a",
   "metadata": {},
   "outputs": [
    {
     "name": "stdout",
     "output_type": "stream",
     "text": [
      "9 14 10 3\n"
     ]
    }
   ],
   "source": [
    "def countInString(str):\n",
    "    v,c,d,s=0,0,0,0\n",
    "    for char in str:\n",
    "        if((char>='a' and char<='z')or (char>='A' and char<='Z')):\n",
    "            char=char.lower()\n",
    "            if(char=='a' or char=='e' or char=='i' or char=='o' or char=='u'):\n",
    "                v+=1\n",
    "            else:\n",
    "                c+=1\n",
    "        elif(char>='0' and char<='9'):\n",
    "            d+=1\n",
    "        else:\n",
    "            s+=1\n",
    "    return v,c,d,s\n",
    "str='sfsaAFsawurioq2412141dsafd!@ afsa421'\n",
    "type(str[0])\n",
    "v,c,d,s=countInString(str)\n",
    "print(v,c,d,s)"
   ]
  },
  {
   "cell_type": "markdown",
   "id": "0d0712be",
   "metadata": {},
   "source": [
    "## Check Permutation\n",
    "\n",
    "For a given two strings, 'str1' and 'str2', check whether they are a permutation of each other or not."
   ]
  },
  {
   "cell_type": "code",
   "execution_count": 4,
   "id": "107ca895",
   "metadata": {},
   "outputs": [
    {
     "name": "stdout",
     "output_type": "stream",
     "text": [
      "True\n"
     ]
    }
   ],
   "source": [
    "def isPermutation(string1, string2) :\n",
    "    s1= sorted(string1)\n",
    "    s2= sorted(string2)\n",
    "    \n",
    "    return s1==s2\n",
    "\n",
    "a='heaven'\n",
    "b='nevaeh'\n",
    "c=isPermutation(a,b)\n",
    "print(c)"
   ]
  },
  {
   "cell_type": "markdown",
   "id": "24256861",
   "metadata": {},
   "source": [
    "## Remove Consecutive Duplicates\n",
    "\n",
    "For a given string(str), remove all the consecutive duplicate characters."
   ]
  },
  {
   "cell_type": "code",
   "execution_count": 5,
   "id": "3b50d122",
   "metadata": {},
   "outputs": [
    {
     "name": "stdout",
     "output_type": "stream",
     "text": [
      "abcba\n"
     ]
    }
   ],
   "source": [
    "def removeConsecutiveDuplicates(string):\n",
    "    new_s = \"\"\n",
    "    prev = \"\"\n",
    "    for c in string:\n",
    "        if len(new_s) == 0:\n",
    "            new_s += c\n",
    "            prev = c\n",
    "        if c == prev:\n",
    "            continue\n",
    "        else:\n",
    "            new_s += c\n",
    "            prev = c\n",
    "    return new_s\n",
    "\n",
    "a='aabccbaa'\n",
    "b=removeConsecutiveDuplicates(a)\n",
    "print(b)"
   ]
  },
  {
   "cell_type": "markdown",
   "id": "075dd09f",
   "metadata": {},
   "source": [
    "## Reverse Each Word\n",
    "\n",
    "Aadil has been provided with a sentence in the form of a string as a function parameter. The task is to implement a function so as to print the sentence such that each word in the sentence is reversed."
   ]
  },
  {
   "cell_type": "code",
   "execution_count": 7,
   "id": "fdaa3ad7",
   "metadata": {},
   "outputs": [
    {
     "name": "stdout",
     "output_type": "stream",
     "text": [
      "syawlA tnedni ruoy edoc \n"
     ]
    }
   ],
   "source": [
    "def reverseEachWord(string) :\n",
    "        size=len(string)\n",
    "        str=\"\"\n",
    "        n=-2\n",
    "        for i in range(size):\n",
    "            if(string[i]==\" \"):\n",
    "                k=n+1\n",
    "                n=i-1\n",
    "                for j in range(n,k,-1):\n",
    "                    str=str+string[j]\n",
    "                str=str+\" \"    \n",
    "            elif(i==(size-1)):\n",
    "                k=n\n",
    "                n=i\n",
    "                for j in range(n,k,-1):\n",
    "                    str=str+string[j] \n",
    "        return(str)\n",
    "    \n",
    "a='Always indent your code'\n",
    "b=reverseEachWord(a)\n",
    "print(b)"
   ]
  },
  {
   "cell_type": "markdown",
   "id": "959000fa",
   "metadata": {},
   "source": [
    "## Remove character\n",
    "\n",
    "For a given a string(str) and a character X, write a function to remove all the occurrences of X from the given string.\n",
    "The input string will remain unchanged if the given character(X) doesn't exist in the input string."
   ]
  },
  {
   "cell_type": "code",
   "execution_count": 10,
   "id": "d142ac91",
   "metadata": {},
   "outputs": [
    {
     "name": "stdout",
     "output_type": "stream",
     "text": [
      "bccb\n"
     ]
    }
   ],
   "source": [
    "def removeAllOccurrencesOfChar(string, ch) :\n",
    "    string=string.replace(ch,\"\")\n",
    "    return string\n",
    "\n",
    "ash='aabccbaa'\n",
    "brown='a'\n",
    "b=removeAllOccurrencesOfChar(ash,brown)\n",
    "print(b)"
   ]
  },
  {
   "cell_type": "markdown",
   "id": "89f667cb",
   "metadata": {},
   "source": [
    "## Highest Occuring Character\n",
    "\n",
    "For a given a string(str), find and return the highest occurring character."
   ]
  },
  {
   "cell_type": "code",
   "execution_count": 13,
   "id": "700d0a9d",
   "metadata": {},
   "outputs": [
    {
     "name": "stdout",
     "output_type": "stream",
     "text": [
      "b\n"
     ]
    }
   ],
   "source": [
    "def highestOccuringChar(string) :\n",
    "    st = string.lower().replace(' ', '')\n",
    "    frequencies = {}\n",
    "    for i in st:\n",
    "        if i in frequencies:\n",
    "            frequencies[i] += 1\n",
    "        else:\n",
    "            frequencies[i] = 1\n",
    "\n",
    "    return max(frequencies, key=frequencies.get)\n",
    "\n",
    "a='abdefgbabfba'\n",
    "c=highestOccuringChar(a)\n",
    "print(c)"
   ]
  },
  {
   "cell_type": "markdown",
   "id": "d0e77295",
   "metadata": {},
   "source": [
    "## Compress the String\n",
    "\n",
    "Write a program to do basic string compression. For a character which is consecutively repeated more than once, replace consecutive duplicate occurrences with the count of repetitions."
   ]
  },
  {
   "cell_type": "code",
   "execution_count": 16,
   "id": "daf1b516",
   "metadata": {},
   "outputs": [
    {
     "name": "stdout",
     "output_type": "stream",
     "text": [
      "a3b2c2dsa\n"
     ]
    }
   ],
   "source": [
    "def getCompressedString(string) :       \n",
    "        input=string[0]\n",
    "        count=0\n",
    "        str=\"\"\n",
    "        size=len(string)\n",
    "        for i in range(size):\n",
    "            if(input==string[i]):\n",
    "                count=count+1\n",
    "            if(input!=string[i]):\n",
    "                str=str+input\n",
    "                input=string[i]\n",
    "                if(count>1):\n",
    "                    str=str+chr(count + 48)\n",
    "                count=1\n",
    "        str=str+input \n",
    "        if(count>1):\n",
    "            str=str+chr(count + 48)\n",
    "        return(str)\n",
    "    \n",
    "a='aaabbccdsa'\n",
    "b=getCompressedString(a)\n",
    "print(b)"
   ]
  }
 ],
 "metadata": {
  "kernelspec": {
   "display_name": "Python 3 (ipykernel)",
   "language": "python",
   "name": "python3"
  },
  "language_info": {
   "codemirror_mode": {
    "name": "ipython",
    "version": 3
   },
   "file_extension": ".py",
   "mimetype": "text/x-python",
   "name": "python",
   "nbconvert_exporter": "python",
   "pygments_lexer": "ipython3",
   "version": "3.9.13"
  }
 },
 "nbformat": 4,
 "nbformat_minor": 5
}
