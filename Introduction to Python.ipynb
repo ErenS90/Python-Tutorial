{
 "cells": [
  {
   "cell_type": "markdown",
   "id": "70c815c6",
   "metadata": {},
   "source": [
    "Find Average Marks.\n",
    "Write a program to input marks of three tests of a student (all integers). Then calculate and print the average of all test marks."
   ]
  },
  {
   "cell_type": "code",
   "execution_count": null,
   "id": "9d5df97a",
   "metadata": {},
   "outputs": [],
   "source": [
    "a=int(input())\n",
    "b=int(input())\n",
    "c=int(input())\n",
    "d=(a+b+c)/3\n",
    "print(d)"
   ]
  },
  {
   "cell_type": "markdown",
   "id": "ce9e43a8",
   "metadata": {},
   "source": [
    "Find X raised to power N.\n",
    "You are given two integers: X and N. You have to calculate X raised to power N and print it."
   ]
  },
  {
   "cell_type": "code",
   "execution_count": null,
   "id": "2babb7ca",
   "metadata": {},
   "outputs": [],
   "source": [
    "x=int(input())\n",
    "n=int(input())\n",
    "print(x**n)"
   ]
  },
  {
   "cell_type": "markdown",
   "id": "9109b7d7",
   "metadata": {},
   "source": [
    "Arithmetic Progression.\n",
    "You are given first three entries of an arithmetic progression. You have to calculate the common difference and print it."
   ]
  },
  {
   "cell_type": "code",
   "execution_count": null,
   "id": "80d4baaf",
   "metadata": {},
   "outputs": [],
   "source": [
    "a=int(input())\n",
    "b=int(input())\n",
    "c=int(input())\n",
    "d=b-a\n",
    "print(d)"
   ]
  },
  {
   "cell_type": "markdown",
   "id": "2eed9161",
   "metadata": {},
   "source": [
    "Rectangular Area.\n",
    "You are given a rectangle in a plane. The coordinates of one of its diagonals are provided to you. You have to print the total area of the rectangle.\n",
    "The coordinates of the rectangle are provided as four integral values: x1, y1, x2, y2. It is given that x1 < x2 and y1 < y2."
   ]
  },
  {
   "cell_type": "code",
   "execution_count": null,
   "id": "bfc06ebd",
   "metadata": {},
   "outputs": [],
   "source": [
    "x1=int(input())\n",
    "y1=int(input())\n",
    "x2=int(input())\n",
    "y2=int(input())\n",
    "\n",
    "a=(x2-x1)*(y2-y1)\n",
    "print(a)"
   ]
  }
 ],
 "metadata": {
  "kernelspec": {
   "display_name": "Python 3 (ipykernel)",
   "language": "python",
   "name": "python3"
  },
  "language_info": {
   "codemirror_mode": {
    "name": "ipython",
    "version": 3
   },
   "file_extension": ".py",
   "mimetype": "text/x-python",
   "name": "python",
   "nbconvert_exporter": "python",
   "pygments_lexer": "ipython3",
   "version": "3.9.7"
  }
 },
 "nbformat": 4,
 "nbformat_minor": 5
}
